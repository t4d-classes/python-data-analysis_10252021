{
 "cells": [
  {
   "cell_type": "markdown",
   "id": "bdc54329-f1a1-4f1c-ab04-1e5a34cf48e7",
   "metadata": {
    "tags": []
   },
   "source": [
    "# My First Notebook"
   ]
  },
  {
   "cell_type": "code",
   "execution_count": 2,
   "id": "1ca48eac-d20f-47ef-9408-4789cacbf385",
   "metadata": {
    "ExecuteTime": {
     "end_time": "2021-10-25T16:12:27.510017Z",
     "start_time": "2021-10-25T16:12:27.464115Z"
    }
   },
   "outputs": [],
   "source": [
    "import numpy as np"
   ]
  },
  {
   "cell_type": "code",
   "execution_count": 3,
   "id": "d1bd68cc-fc45-4fcf-b7c8-24845425ac66",
   "metadata": {
    "ExecuteTime": {
     "end_time": "2021-10-25T16:12:28.646509Z",
     "start_time": "2021-10-25T16:12:28.608032Z"
    }
   },
   "outputs": [],
   "source": [
    "nums = np.array([1,2,3,4,5])"
   ]
  },
  {
   "cell_type": "code",
   "execution_count": null,
   "id": "a53af7c0-c645-459a-8215-86466c6271b7",
   "metadata": {},
   "outputs": [],
   "source": []
  },
  {
   "cell_type": "code",
   "execution_count": null,
   "id": "36c0afac",
   "metadata": {},
   "outputs": [],
   "source": []
  }
 ],
 "metadata": {
  "interpreter": {
   "hash": "611564e504ac46dc8f51b2682bf2fac7f22093ecf56ad77057a9c6f989f6bd3b"
  },
  "kernelspec": {
   "display_name": "Python 3.9.6 64-bit ('venv': venv)",
   "name": "python3"
  },
  "language_info": {
   "codemirror_mode": {
    "name": "ipython",
    "version": 3
   },
   "file_extension": ".py",
   "mimetype": "text/x-python",
   "name": "python",
   "nbconvert_exporter": "python",
   "pygments_lexer": "ipython3",
   "version": "3.9.6"
  },
  "varInspector": {
   "cols": {
    "lenName": 16,
    "lenType": 16,
    "lenVar": 40
   },
   "kernels_config": {
    "python": {
     "delete_cmd_postfix": "",
     "delete_cmd_prefix": "del ",
     "library": "var_list.py",
     "varRefreshCmd": "print(var_dic_list())"
    },
    "r": {
     "delete_cmd_postfix": ") ",
     "delete_cmd_prefix": "rm(",
     "library": "var_list.r",
     "varRefreshCmd": "cat(var_dic_list()) "
    }
   },
   "types_to_exclude": [
    "module",
    "function",
    "builtin_function_or_method",
    "instance",
    "_Feature"
   ],
   "window_display": false
  }
 },
 "nbformat": 4,
 "nbformat_minor": 5
}
