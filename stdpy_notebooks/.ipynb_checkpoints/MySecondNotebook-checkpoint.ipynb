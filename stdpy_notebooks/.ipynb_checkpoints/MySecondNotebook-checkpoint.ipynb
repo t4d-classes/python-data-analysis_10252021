{
 "cells": [
  {
   "cell_type": "code",
   "execution_count": null,
   "id": "7ab0f0e1-4780-4c1a-a0e6-c8b3af88746e",
   "metadata": {},
   "outputs": [],
   "source": []
  }
 ],
 "metadata": {
  "kernelspec": {
   "display_name": "stdpy_notebooks",
   "language": "python",
   "name": "stdpy_notebooks"
  },
  "language_info": {
   "codemirror_mode": {
    "name": "ipython",
    "version": 3
   },
   "file_extension": ".py",
   "mimetype": "text/x-python",
   "name": "python",
   "nbconvert_exporter": "python",
   "pygments_lexer": "ipython3",
   "version": "3.9.6"
  }
 },
 "nbformat": 4,
 "nbformat_minor": 5
}
