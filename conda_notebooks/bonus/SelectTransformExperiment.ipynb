{
 "cells": [
  {
   "cell_type": "code",
   "execution_count": 1,
   "id": "907d0e80-fdc1-4dc6-9452-2cb4a760951a",
   "metadata": {},
   "outputs": [
    {
     "data": {
      "text/plain": [
       "array([      0,       1,       2, ..., 9999997, 9999998, 9999999])"
      ]
     },
     "execution_count": 1,
     "metadata": {},
     "output_type": "execute_result"
    }
   ],
   "source": [
    "import numpy as np\n",
    "\n",
    "initial_nums = np.arange(10_000_000)\n",
    "\n",
    "initial_nums"
   ]
  },
  {
   "cell_type": "code",
   "execution_count": 2,
   "id": "5cd36011-e887-409f-99d0-57920e44d21f",
   "metadata": {},
   "outputs": [
    {
     "name": "stdout",
     "output_type": "stream",
     "text": [
      "[0 1 2 3 4 5 6 7 8 9]\n",
      "Wall time: 1.09 s\n"
     ]
    }
   ],
   "source": [
    "%%time\n",
    "\n",
    "for _ in range(100):\n",
    "    nums = np.copy(initial_nums)\n",
    "    \n",
    "    mask = nums % 2 == 0\n",
    "    \n",
    "    vals = nums[mask] * 2\n",
    "    \n",
    "    nums[mask] = vals\n",
    "  \n",
    "print(nums[:10])"
   ]
  },
  {
   "cell_type": "code",
   "execution_count": 3,
   "id": "9ddbc1fb-505b-4557-92e1-daa1459b927d",
   "metadata": {},
   "outputs": [
    {
     "name": "stdout",
     "output_type": "stream",
     "text": [
      "[0 1 2 3 4 5 6 7 8 9]\n",
      "Wall time: 1.16 s\n"
     ]
    }
   ],
   "source": [
    "%%time\n",
    "\n",
    "for _ in range(100):\n",
    "    nums = np.copy(initial_nums)\n",
    "    \n",
    "    mask = nums % 2 == 0\n",
    "    \n",
    "    nums[mask] *= 2\n",
    "  \n",
    "print(nums[:10])"
   ]
  },
  {
   "cell_type": "code",
   "execution_count": 4,
   "id": "2b35a275-69bb-492e-a1d6-94d776c07f88",
   "metadata": {},
   "outputs": [
    {
     "name": "stdout",
     "output_type": "stream",
     "text": [
      "[0 1 2 3 4 5 6 7 8 9]\n",
      "Wall time: 1.13 s\n"
     ]
    }
   ],
   "source": [
    "%%time\n",
    "\n",
    "for _ in range(100):\n",
    "    nums = np.copy(initial_nums)\n",
    "    \n",
    "    nums[nums % 2 == 0] *= 2\n",
    "  \n",
    "print(nums[:10])"
   ]
  },
  {
   "cell_type": "code",
   "execution_count": 5,
   "id": "8b069bb8-c100-49e9-a483-74ce021a32fb",
   "metadata": {},
   "outputs": [
    {
     "name": "stdout",
     "output_type": "stream",
     "text": [
      "[0 1 2 3 4 5 6 7 8 9]\n",
      "Wall time: 15 ms\n"
     ]
    }
   ],
   "source": [
    "%%time\n",
    "\n",
    "# do not set count above 1\n",
    "for _ in range(1):\n",
    "    nums = np.copy(initial_nums)\n",
    "    for idx, val in np.ndenumerate(nums):\n",
    "        if val % 2 == 0:\n",
    "            nums[idx[0]] = val * 2\n",
    "            \n",
    "print(nums[:10])"
   ]
  },
  {
   "cell_type": "code",
   "execution_count": 7,
   "id": "61535fa7-6d73-4cc4-8159-d353c1978c99",
   "metadata": {},
   "outputs": [
    {
     "name": "stdout",
     "output_type": "stream",
     "text": [
      "[ 0  1  4  3  8  5 12  7 16  9]\n",
      "Wall time: 10.5 s\n"
     ]
    }
   ],
   "source": [
    "%%time\n",
    "\n",
    "# do not set count above 5\n",
    "for _ in range(5):\n",
    "    nums = np.copy(initial_nums)\n",
    "    nums = np.vectorize(lambda x: x * 2 if x % 2 == 0 else x)(nums)\n",
    "    \n",
    "print(nums[:10])"
   ]
  },
  {
   "cell_type": "code",
   "execution_count": null,
   "id": "c8836bcf-6bfe-4c81-80c6-96b1406c8707",
   "metadata": {},
   "outputs": [],
   "source": []
  }
 ],
 "metadata": {
  "kernelspec": {
   "display_name": "conda_notebooks",
   "language": "python",
   "name": "conda_notebooks"
  },
  "language_info": {
   "codemirror_mode": {
    "name": "ipython",
    "version": 3
   },
   "file_extension": ".py",
   "mimetype": "text/x-python",
   "name": "python",
   "nbconvert_exporter": "python",
   "pygments_lexer": "ipython3",
   "version": "3.9.7"
  }
 },
 "nbformat": 4,
 "nbformat_minor": 5
}
