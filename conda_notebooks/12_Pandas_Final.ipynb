{
 "cells": [
  {
   "cell_type": "code",
   "execution_count": 1,
   "id": "9903924d-0aa0-4485-9cdc-3c1dd816e4fa",
   "metadata": {},
   "outputs": [],
   "source": [
    "import math\n",
    "import statistics as stats2\n",
    "\n",
    "from matplotlib import pyplot as plt\n",
    "from matplotlib.ticker import MaxNLocator\n",
    "from scipy import stats\n",
    "import numpy as np\n",
    "import pandas as pd\n",
    "\n",
    "\n",
    "%matplotlib inline"
   ]
  },
  {
   "cell_type": "code",
   "execution_count": 2,
   "id": "5b60b813-a99e-47fc-9742-db3cabc67d7a",
   "metadata": {},
   "outputs": [
    {
     "data": {
      "text/html": [
       "<div>\n",
       "<style scoped>\n",
       "    .dataframe tbody tr th:only-of-type {\n",
       "        vertical-align: middle;\n",
       "    }\n",
       "\n",
       "    .dataframe tbody tr th {\n",
       "        vertical-align: top;\n",
       "    }\n",
       "\n",
       "    .dataframe thead th {\n",
       "        text-align: right;\n",
       "    }\n",
       "</style>\n",
       "<table border=\"1\" class=\"dataframe\">\n",
       "  <thead>\n",
       "    <tr style=\"text-align: right;\">\n",
       "      <th></th>\n",
       "      <th>name</th>\n",
       "      <th>city</th>\n",
       "      <th>state</th>\n",
       "    </tr>\n",
       "  </thead>\n",
       "  <tbody>\n",
       "    <tr>\n",
       "      <th>0</th>\n",
       "      <td>Bob</td>\n",
       "      <td>San Jose</td>\n",
       "      <td>CA</td>\n",
       "    </tr>\n",
       "    <tr>\n",
       "      <th>1</th>\n",
       "      <td>Sally</td>\n",
       "      <td>San Diego</td>\n",
       "      <td>CA</td>\n",
       "    </tr>\n",
       "    <tr>\n",
       "      <th>2</th>\n",
       "      <td>Timmy</td>\n",
       "      <td>New York</td>\n",
       "      <td>NY</td>\n",
       "    </tr>\n",
       "    <tr>\n",
       "      <th>3</th>\n",
       "      <td>Bridget</td>\n",
       "      <td>San Jose</td>\n",
       "      <td>CA</td>\n",
       "    </tr>\n",
       "    <tr>\n",
       "      <th>4</th>\n",
       "      <td>Susan</td>\n",
       "      <td>Austin</td>\n",
       "      <td>TX</td>\n",
       "    </tr>\n",
       "    <tr>\n",
       "      <th>5</th>\n",
       "      <td>Steve</td>\n",
       "      <td>New York</td>\n",
       "      <td>NY</td>\n",
       "    </tr>\n",
       "  </tbody>\n",
       "</table>\n",
       "</div>"
      ],
      "text/plain": [
       "      name       city state\n",
       "0      Bob   San Jose    CA\n",
       "1    Sally  San Diego    CA\n",
       "2    Timmy   New York    NY\n",
       "3  Bridget   San Jose    CA\n",
       "4    Susan     Austin    TX\n",
       "5    Steve   New York    NY"
      ]
     },
     "execution_count": 2,
     "metadata": {},
     "output_type": "execute_result"
    }
   ],
   "source": [
    "people = pd.DataFrame({\n",
    "    \"name\": [ \"Bob\", \"Sally\", \"Timmy\", \"Bridget\", \"Susan\", \"Steve\" ],\n",
    "    \"city\": [ \"San Jose\", \"San Diego\", \"New York\", \"San Jose\", \"Austin\", \"New York\" ],\n",
    "    \"state\": [ \"CA\", \"CA\", \"NY\", \"CA\", \"TX\", \"NY\" ]\n",
    "})\n",
    "\n",
    "people"
   ]
  },
  {
   "cell_type": "code",
   "execution_count": 3,
   "id": "5cf3dfdd-8620-40b9-8202-dbb46810c171",
   "metadata": {},
   "outputs": [
    {
     "data": {
      "text/plain": [
       "name     city       state\n",
       "Bob      San Jose   CA       1\n",
       "Bridget  San Jose   CA       1\n",
       "Sally    San Diego  CA       1\n",
       "Steve    New York   NY       1\n",
       "Susan    Austin     TX       1\n",
       "Timmy    New York   NY       1\n",
       "dtype: int64"
      ]
     },
     "execution_count": 3,
     "metadata": {},
     "output_type": "execute_result"
    }
   ],
   "source": [
    "people.value_counts()"
   ]
  },
  {
   "cell_type": "code",
   "execution_count": 4,
   "id": "5b93b7a8-8626-432f-be0b-36eeffd8e29f",
   "metadata": {},
   "outputs": [
    {
     "data": {
      "text/plain": [
       "San Jose     2\n",
       "New York     2\n",
       "San Diego    1\n",
       "Austin       1\n",
       "Name: city, dtype: int64"
      ]
     },
     "execution_count": 4,
     "metadata": {},
     "output_type": "execute_result"
    }
   ],
   "source": [
    "people[\"city\"].value_counts()"
   ]
  },
  {
   "cell_type": "code",
   "execution_count": 5,
   "id": "baa27504-4fa9-4e9e-9f40-f5292c613b1f",
   "metadata": {},
   "outputs": [
    {
     "data": {
      "text/plain": [
       "MultiIndex([( 'New York', 'NY'),\n",
       "            ( 'San Jose', 'CA'),\n",
       "            (   'Austin', 'TX'),\n",
       "            ('San Diego', 'CA')],\n",
       "           names=['city', 'state'])"
      ]
     },
     "execution_count": 11,
     "metadata": {},
     "output_type": "execute_result"
    }
   ],
   "source": [
    "people[ [\"city\", \"state\"] ].value_counts()"
   ]
  },
  {
   "cell_type": "code",
   "execution_count": 6,
   "id": "387f4ca0-3d27-4609-9519-e74d524c50bd",
   "metadata": {},
   "outputs": [
    {
     "data": {
      "text/plain": [
       "city       state\n",
       "Austin     TX       1\n",
       "New York   NY       2\n",
       "San Diego  CA       1\n",
       "San Jose   CA       2\n",
       "dtype: int64"
      ]
     },
     "execution_count": 6,
     "metadata": {},
     "output_type": "execute_result"
    }
   ],
   "source": [
    "people.groupby([ \"city\", \"state\" ]).size()"
   ]
  },
  {
   "cell_type": "code",
   "execution_count": 7,
   "id": "9619c49d-eacf-43a8-a4b6-7a760e7f06dc",
   "metadata": {},
   "outputs": [],
   "source": [
    "people_grouped = people.groupby([ \"city\", \"state\" ]).size().sort_values(ascending=False)"
   ]
  },
  {
   "cell_type": "code",
   "execution_count": 12,
   "id": "15a06280-d52d-41e7-9c56-282774f62736",
   "metadata": {},
   "outputs": [
    {
     "data": {
      "text/plain": [
       "city       state\n",
       "New York   NY       2\n",
       "San Jose   CA       2\n",
       "Austin     TX       1\n",
       "San Diego  CA       1\n",
       "dtype: int64"
      ]
     },
     "execution_count": 12,
     "metadata": {},
     "output_type": "execute_result"
    }
   ],
   "source": [
    "people_grouped"
   ]
  },
  {
   "cell_type": "code",
   "execution_count": 9,
   "id": "a8532a5f-8732-40d6-8a63-0673e9a3848e",
   "metadata": {},
   "outputs": [
    {
     "data": {
      "text/plain": [
       "pandas.core.series.Series"
      ]
     },
     "execution_count": 9,
     "metadata": {},
     "output_type": "execute_result"
    }
   ],
   "source": [
    "type(people_grouped)"
   ]
  },
  {
   "cell_type": "code",
   "execution_count": 13,
   "id": "115f3b20-9746-4fc6-9fae-9c0d82e133a9",
   "metadata": {},
   "outputs": [
    {
     "data": {
      "text/html": [
       "<div>\n",
       "<style scoped>\n",
       "    .dataframe tbody tr th:only-of-type {\n",
       "        vertical-align: middle;\n",
       "    }\n",
       "\n",
       "    .dataframe tbody tr th {\n",
       "        vertical-align: top;\n",
       "    }\n",
       "\n",
       "    .dataframe thead th {\n",
       "        text-align: right;\n",
       "    }\n",
       "</style>\n",
       "<table border=\"1\" class=\"dataframe\">\n",
       "  <thead>\n",
       "    <tr style=\"text-align: right;\">\n",
       "      <th>state</th>\n",
       "      <th>CA</th>\n",
       "      <th>NY</th>\n",
       "      <th>TX</th>\n",
       "    </tr>\n",
       "    <tr>\n",
       "      <th>city</th>\n",
       "      <th></th>\n",
       "      <th></th>\n",
       "      <th></th>\n",
       "    </tr>\n",
       "  </thead>\n",
       "  <tbody>\n",
       "    <tr>\n",
       "      <th>Austin</th>\n",
       "      <td>NaN</td>\n",
       "      <td>NaN</td>\n",
       "      <td>1.0</td>\n",
       "    </tr>\n",
       "    <tr>\n",
       "      <th>New York</th>\n",
       "      <td>NaN</td>\n",
       "      <td>2.0</td>\n",
       "      <td>NaN</td>\n",
       "    </tr>\n",
       "    <tr>\n",
       "      <th>San Diego</th>\n",
       "      <td>1.0</td>\n",
       "      <td>NaN</td>\n",
       "      <td>NaN</td>\n",
       "    </tr>\n",
       "    <tr>\n",
       "      <th>San Jose</th>\n",
       "      <td>2.0</td>\n",
       "      <td>NaN</td>\n",
       "      <td>NaN</td>\n",
       "    </tr>\n",
       "  </tbody>\n",
       "</table>\n",
       "</div>"
      ],
      "text/plain": [
       "state       CA   NY   TX\n",
       "city                    \n",
       "Austin     NaN  NaN  1.0\n",
       "New York   NaN  2.0  NaN\n",
       "San Diego  1.0  NaN  NaN\n",
       "San Jose   2.0  NaN  NaN"
      ]
     },
     "execution_count": 13,
     "metadata": {},
     "output_type": "execute_result"
    }
   ],
   "source": [
    "people_grouped.unstack()"
   ]
  },
  {
   "cell_type": "code",
   "execution_count": 16,
   "id": "7bd69a61-30ee-4caf-9c8a-daccfeab98f6",
   "metadata": {},
   "outputs": [],
   "source": [
    "state_by_city = people_grouped.unstack(0)"
   ]
  },
  {
   "cell_type": "code",
   "execution_count": 17,
   "id": "21145614-666a-468a-9938-6fb2a9b85bb1",
   "metadata": {},
   "outputs": [
    {
     "data": {
      "text/html": [
       "<div>\n",
       "<style scoped>\n",
       "    .dataframe tbody tr th:only-of-type {\n",
       "        vertical-align: middle;\n",
       "    }\n",
       "\n",
       "    .dataframe tbody tr th {\n",
       "        vertical-align: top;\n",
       "    }\n",
       "\n",
       "    .dataframe thead th {\n",
       "        text-align: right;\n",
       "    }\n",
       "</style>\n",
       "<table border=\"1\" class=\"dataframe\">\n",
       "  <thead>\n",
       "    <tr style=\"text-align: right;\">\n",
       "      <th>city</th>\n",
       "      <th>Austin</th>\n",
       "      <th>New York</th>\n",
       "      <th>San Diego</th>\n",
       "      <th>San Jose</th>\n",
       "    </tr>\n",
       "    <tr>\n",
       "      <th>state</th>\n",
       "      <th></th>\n",
       "      <th></th>\n",
       "      <th></th>\n",
       "      <th></th>\n",
       "    </tr>\n",
       "  </thead>\n",
       "  <tbody>\n",
       "    <tr>\n",
       "      <th>CA</th>\n",
       "      <td>NaN</td>\n",
       "      <td>NaN</td>\n",
       "      <td>1.0</td>\n",
       "      <td>2.0</td>\n",
       "    </tr>\n",
       "    <tr>\n",
       "      <th>NY</th>\n",
       "      <td>NaN</td>\n",
       "      <td>2.0</td>\n",
       "      <td>NaN</td>\n",
       "      <td>NaN</td>\n",
       "    </tr>\n",
       "    <tr>\n",
       "      <th>TX</th>\n",
       "      <td>1.0</td>\n",
       "      <td>NaN</td>\n",
       "      <td>NaN</td>\n",
       "      <td>NaN</td>\n",
       "    </tr>\n",
       "  </tbody>\n",
       "</table>\n",
       "</div>"
      ],
      "text/plain": [
       "city   Austin  New York  San Diego  San Jose\n",
       "state                                       \n",
       "CA        NaN       NaN        1.0       2.0\n",
       "NY        NaN       2.0        NaN       NaN\n",
       "TX        1.0       NaN        NaN       NaN"
      ]
     },
     "execution_count": 17,
     "metadata": {},
     "output_type": "execute_result"
    }
   ],
   "source": [
    "state_by_city"
   ]
  },
  {
   "cell_type": "code",
   "execution_count": 18,
   "id": "c7be80f2-2c0e-4f6d-b162-f278443fce76",
   "metadata": {},
   "outputs": [
    {
     "data": {
      "text/html": [
       "<div>\n",
       "<style scoped>\n",
       "    .dataframe tbody tr th:only-of-type {\n",
       "        vertical-align: middle;\n",
       "    }\n",
       "\n",
       "    .dataframe tbody tr th {\n",
       "        vertical-align: top;\n",
       "    }\n",
       "\n",
       "    .dataframe thead th {\n",
       "        text-align: right;\n",
       "    }\n",
       "</style>\n",
       "<table border=\"1\" class=\"dataframe\">\n",
       "  <thead>\n",
       "    <tr style=\"text-align: right;\">\n",
       "      <th>city</th>\n",
       "      <th>Austin</th>\n",
       "      <th>New York</th>\n",
       "      <th>San Diego</th>\n",
       "      <th>San Jose</th>\n",
       "    </tr>\n",
       "    <tr>\n",
       "      <th>state</th>\n",
       "      <th></th>\n",
       "      <th></th>\n",
       "      <th></th>\n",
       "      <th></th>\n",
       "    </tr>\n",
       "  </thead>\n",
       "  <tbody>\n",
       "    <tr>\n",
       "      <th>CA</th>\n",
       "      <td>0.0</td>\n",
       "      <td>0.0</td>\n",
       "      <td>1.0</td>\n",
       "      <td>2.0</td>\n",
       "    </tr>\n",
       "    <tr>\n",
       "      <th>NY</th>\n",
       "      <td>0.0</td>\n",
       "      <td>2.0</td>\n",
       "      <td>0.0</td>\n",
       "      <td>0.0</td>\n",
       "    </tr>\n",
       "    <tr>\n",
       "      <th>TX</th>\n",
       "      <td>1.0</td>\n",
       "      <td>0.0</td>\n",
       "      <td>0.0</td>\n",
       "      <td>0.0</td>\n",
       "    </tr>\n",
       "  </tbody>\n",
       "</table>\n",
       "</div>"
      ],
      "text/plain": [
       "city   Austin  New York  San Diego  San Jose\n",
       "state                                       \n",
       "CA        0.0       0.0        1.0       2.0\n",
       "NY        0.0       2.0        0.0       0.0\n",
       "TX        1.0       0.0        0.0       0.0"
      ]
     },
     "execution_count": 18,
     "metadata": {},
     "output_type": "execute_result"
    }
   ],
   "source": [
    "state_by_city.fillna(0, inplace=True)\n",
    "\n",
    "state_by_city"
   ]
  },
  {
   "cell_type": "code",
   "execution_count": 19,
   "id": "4f403403-5b18-41a9-a374-fd47525527a1",
   "metadata": {},
   "outputs": [
    {
     "data": {
      "text/html": [
       "<div>\n",
       "<style scoped>\n",
       "    .dataframe tbody tr th:only-of-type {\n",
       "        vertical-align: middle;\n",
       "    }\n",
       "\n",
       "    .dataframe tbody tr th {\n",
       "        vertical-align: top;\n",
       "    }\n",
       "\n",
       "    .dataframe thead th {\n",
       "        text-align: right;\n",
       "    }\n",
       "</style>\n",
       "<table border=\"1\" class=\"dataframe\">\n",
       "  <thead>\n",
       "    <tr style=\"text-align: right;\">\n",
       "      <th>city</th>\n",
       "      <th>Austin</th>\n",
       "      <th>New York</th>\n",
       "      <th>San Diego</th>\n",
       "      <th>San Jose</th>\n",
       "    </tr>\n",
       "    <tr>\n",
       "      <th>state</th>\n",
       "      <th></th>\n",
       "      <th></th>\n",
       "      <th></th>\n",
       "      <th></th>\n",
       "    </tr>\n",
       "  </thead>\n",
       "  <tbody>\n",
       "    <tr>\n",
       "      <th>NY</th>\n",
       "      <td>0.0</td>\n",
       "      <td>2.0</td>\n",
       "      <td>0.0</td>\n",
       "      <td>0.0</td>\n",
       "    </tr>\n",
       "    <tr>\n",
       "      <th>CA</th>\n",
       "      <td>0.0</td>\n",
       "      <td>0.0</td>\n",
       "      <td>1.0</td>\n",
       "      <td>2.0</td>\n",
       "    </tr>\n",
       "    <tr>\n",
       "      <th>TX</th>\n",
       "      <td>1.0</td>\n",
       "      <td>0.0</td>\n",
       "      <td>0.0</td>\n",
       "      <td>0.0</td>\n",
       "    </tr>\n",
       "  </tbody>\n",
       "</table>\n",
       "</div>"
      ],
      "text/plain": [
       "city   Austin  New York  San Diego  San Jose\n",
       "state                                       \n",
       "NY        0.0       2.0        0.0       0.0\n",
       "CA        0.0       0.0        1.0       2.0\n",
       "TX        1.0       0.0        0.0       0.0"
      ]
     },
     "execution_count": 19,
     "metadata": {},
     "output_type": "execute_result"
    }
   ],
   "source": [
    "state_by_city.sort_values(by=[\"New York\"], ascending=False)"
   ]
  },
  {
   "cell_type": "code",
   "execution_count": 20,
   "id": "520b4578-601c-4ba3-88c4-c971b19765e2",
   "metadata": {},
   "outputs": [
    {
     "data": {
      "text/plain": [
       "1    0.760047\n",
       "2    0.029538\n",
       "5    0.208425\n",
       "7    0.583357\n",
       "8    0.608796\n",
       "9    0.704043\n",
       "dtype: float64"
      ]
     },
     "metadata": {},
     "output_type": "display_data"
    }
   ],
   "source": [
    "import random\n",
    "\n",
    "days = pd.Series({\n",
    "    \"1\": random.random(),\n",
    "    \"2\": random.random(),\n",
    "    \"5\": random.random(),\n",
    "    \"7\": random.random(),\n",
    "    \"8\": random.random(),\n",
    "    \"9\": random.random(),\n",
    "})\n",
    "\n",
    "display(days)"
   ]
  },
  {
   "cell_type": "code",
   "execution_count": 21,
   "id": "5531704f-c53c-4635-af5e-bf7bd61380c3",
   "metadata": {},
   "outputs": [
    {
     "data": {
      "text/plain": [
       "Index(['1', '2', '5', '7', '8', '9'], dtype='object')"
      ]
     },
     "execution_count": 21,
     "metadata": {},
     "output_type": "execute_result"
    }
   ],
   "source": [
    "days.index"
   ]
  },
  {
   "cell_type": "code",
   "execution_count": 22,
   "id": "a59cd9e8-e6cd-4ccf-a522-cd41390865bd",
   "metadata": {},
   "outputs": [
    {
     "data": {
      "text/plain": [
       "1     0.760047\n",
       "2     0.029538\n",
       "3          NaN\n",
       "4          NaN\n",
       "5     0.208425\n",
       "6          NaN\n",
       "7     0.583357\n",
       "8     0.608796\n",
       "9     0.704043\n",
       "10         NaN\n",
       "dtype: float64"
      ]
     },
     "execution_count": 22,
     "metadata": {},
     "output_type": "execute_result"
    }
   ],
   "source": [
    "reindexed_days = days.reindex([ str(v) for v in range(1,11) ])\n",
    "\n",
    "reindexed_days"
   ]
  },
  {
   "cell_type": "code",
   "execution_count": 23,
   "id": "b2f5687a-acdd-44dd-9a3b-7c356edfc38b",
   "metadata": {},
   "outputs": [
    {
     "data": {
      "text/plain": [
       "1     0.760047\n",
       "2     0.029538\n",
       "3     0.000000\n",
       "4     0.000000\n",
       "5     0.208425\n",
       "6     0.000000\n",
       "7     0.583357\n",
       "8     0.608796\n",
       "9     0.704043\n",
       "10    0.000000\n",
       "dtype: float64"
      ]
     },
     "execution_count": 23,
     "metadata": {},
     "output_type": "execute_result"
    }
   ],
   "source": [
    "reindexed_days.fillna(0, inplace=True)\n",
    "\n",
    "reindexed_days"
   ]
  },
  {
   "cell_type": "code",
   "execution_count": 24,
   "id": "1e959f63-ec1d-4d7a-a557-a2227444e2d5",
   "metadata": {},
   "outputs": [
    {
     "data": {
      "image/png": "[encoded data removed]",
      "text/plain": [
       "<Figure size 1080x432 with 2 Axes>"
      ]
     },
     "metadata": {
      "needs_background": "light"
     },
     "output_type": "display_data"
    }
   ],
   "source": [
    "line1 = np.array([\n",
    "    [1,2], [2,3], [3,1], [4, 3]\n",
    "])\n",
    "\n",
    "line2 = np.array([\n",
    "    [1,1], [2,4], [3,2], [4, 3]\n",
    "])\n",
    "\n",
    "first_semester = np.array([65, 67, 68, 72, 72, 80, 81, 82, 82, 91, 91, 91, 93, 94, 91, 91, 91, 93, 94, 100, 100, 100])\n",
    "second_semester = np.array([75, 77, 78, 72, 72, 70, 71, 72, 82, 91, 91, 91, 93, 94, 91, 91, 91, 93, 94, 100, 100, 100])\n",
    "\n",
    "\n",
    "\n",
    "fig_1 = plt.figure(1, figsize=(15, 6))\n",
    "\n",
    "chart_1 = fig_1.add_subplot(121)\n",
    "chart_2 = fig_1.add_subplot(122)\n",
    "\n",
    "chart_1.xaxis.set_major_locator(MaxNLocator(integer=True))\n",
    "chart_1.yaxis.set_major_locator(MaxNLocator(integer=True))\n",
    "\n",
    "\n",
    "chart_1.plot(line1[:,0], line1[:,1], label=\"Cars\", color='green', linestyle='dashed')\n",
    "chart_1.plot(line2[:,0], line2[:,1], label=\"Boats\", color='blue', linestyle='dotted')\n",
    "\n",
    "chart_1.set_title('Sales by Unit')\n",
    "chart_1.xaxis.set_label('Quarter')\n",
    "chart_1.yaxis.set_label('Amount')\n",
    "chart_1.legend(loc='upper right')\n",
    "\n",
    "\n",
    "chart_2.boxplot([first_semester, second_semester], labels=[\"First\", \"Second\"])\n",
    "\n",
    "chart_2.set_title('Scores by Semester')\n",
    "chart_2.xaxis.set_label('Semester')\n",
    "chart_2.yaxis.set_label('Scores')\n",
    "\n",
    "plt.show()"
   ]
  },
  {
   "cell_type": "code",
   "execution_count": null,
   "id": "d2157817-4de4-4af8-b789-9584560da11a",
   "metadata": {},
   "outputs": [],
   "source": []
  }
 ],
 "metadata": {
  "kernelspec": {
   "display_name": "conda_notebooks",
   "language": "python",
   "name": "conda_notebooks"
  },
  "language_info": {
   "codemirror_mode": {
    "name": "ipython",
    "version": 3
   },
   "file_extension": ".py",
   "mimetype": "text/x-python",
   "name": "python",
   "nbconvert_exporter": "python",
   "pygments_lexer": "ipython3",
   "version": "3.9.7"
  }
 },
 "nbformat": 4,
 "nbformat_minor": 5
}
