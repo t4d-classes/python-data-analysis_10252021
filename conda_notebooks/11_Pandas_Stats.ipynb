{
 "cells": [
  {
   "cell_type": "code",
   "execution_count": 1,
   "id": "6880e438-1691-4ab5-ab66-4c82a615d79b",
   "metadata": {},
   "outputs": [
    {
     "data": {
      "text/html": [
       "<div>\n",
       "<style scoped>\n",
       "    .dataframe tbody tr th:only-of-type {\n",
       "        vertical-align: middle;\n",
       "    }\n",
       "\n",
       "    .dataframe tbody tr th {\n",
       "        vertical-align: top;\n",
       "    }\n",
       "\n",
       "    .dataframe thead th {\n",
       "        text-align: right;\n",
       "    }\n",
       "</style>\n",
       "<table border=\"1\" class=\"dataframe\">\n",
       "  <thead>\n",
       "    <tr style=\"text-align: right;\">\n",
       "      <th></th>\n",
       "      <th>median_income</th>\n",
       "      <th>households</th>\n",
       "      <th>Region</th>\n",
       "    </tr>\n",
       "  </thead>\n",
       "  <tbody>\n",
       "    <tr>\n",
       "      <th>Alexandria</th>\n",
       "      <td>80847</td>\n",
       "      <td>68082</td>\n",
       "      <td>Northern</td>\n",
       "    </tr>\n",
       "    <tr>\n",
       "      <th>Amherst</th>\n",
       "      <td>44757</td>\n",
       "      <td>12560</td>\n",
       "      <td>Central</td>\n",
       "    </tr>\n",
       "    <tr>\n",
       "      <th>Arlington</th>\n",
       "      <td>94880</td>\n",
       "      <td>98050</td>\n",
       "      <td>Northern</td>\n",
       "    </tr>\n",
       "    <tr>\n",
       "      <th>Augusta</th>\n",
       "      <td>50612</td>\n",
       "      <td>28516</td>\n",
       "      <td>Central</td>\n",
       "    </tr>\n",
       "    <tr>\n",
       "      <th>Bedford</th>\n",
       "      <td>54110</td>\n",
       "      <td>27465</td>\n",
       "      <td>Central</td>\n",
       "    </tr>\n",
       "    <tr>\n",
       "      <th>Botetourt</th>\n",
       "      <td>64724</td>\n",
       "      <td>13126</td>\n",
       "      <td>Southwestern</td>\n",
       "    </tr>\n",
       "    <tr>\n",
       "      <th>Fairfax</th>\n",
       "      <td>105416</td>\n",
       "      <td>391627</td>\n",
       "      <td>Northern</td>\n",
       "    </tr>\n",
       "    <tr>\n",
       "      <th>Falls Church</th>\n",
       "      <td>114409</td>\n",
       "      <td>5101</td>\n",
       "      <td>Northern</td>\n",
       "    </tr>\n",
       "    <tr>\n",
       "      <th>Prince William</th>\n",
       "      <td>91098</td>\n",
       "      <td>130785</td>\n",
       "      <td>Northern</td>\n",
       "    </tr>\n",
       "  </tbody>\n",
       "</table>\n",
       "</div>"
      ],
      "text/plain": [
       "                median_income  households        Region\n",
       "Alexandria              80847       68082      Northern\n",
       "Amherst                 44757       12560       Central\n",
       "Arlington               94880       98050      Northern\n",
       "Augusta                 50612       28516       Central\n",
       "Bedford                 54110       27465       Central\n",
       "Botetourt               64724       13126  Southwestern\n",
       "Fairfax                105416      391627      Northern\n",
       "Falls Church           114409        5101      Northern\n",
       "Prince William          91098      130785      Northern"
      ]
     },
     "execution_count": 1,
     "metadata": {},
     "output_type": "execute_result"
    }
   ],
   "source": [
    "from matplotlib import pyplot as plt\n",
    "import pandas as pd\n",
    "\n",
    "%matplotlib inline\n",
    "\n",
    "median_income_dict = {\n",
    "    \"Alexandria\": 80847,\n",
    "    \"Amherst\": 44757,\n",
    "    \"Arlington\": 94880,\n",
    "    \"Augusta\": 50612,\n",
    "    \"Bedford\": 54110,\n",
    "    \"Botetourt\": 64724,\n",
    "    \"Fairfax\": 105416,\n",
    "    \"Falls Church\": 114409,\n",
    "    \"Prince William\": 91098,\n",
    "}\n",
    "\n",
    "median_income_series = pd.Series(median_income_dict)\n",
    "\n",
    "households_dict = {\n",
    "    \"Alexandria\": 68082,\n",
    "    \"Amherst\": 12560,\n",
    "    \"Arlington\": 98050,\n",
    "    \"Augusta\": 28516,\n",
    "    \"Bedford\": 27465,\n",
    "    \"Botetourt\": 13126,\n",
    "    \"Fairfax\": 391627,\n",
    "    \"Falls Church\":\t5101,\n",
    "    \"Prince William\": 130785,\n",
    "}\n",
    "\n",
    "households_series = pd.Series(households_dict)\n",
    "\n",
    "counties = pd.DataFrame({\n",
    "    \"median_income\": median_income_series,\n",
    "    \"households\": households_series,\n",
    "})\n",
    "\n",
    "counties[\"Region\"] = [\n",
    "    \"Northern\",\n",
    "    \"Central\",\n",
    "    \"Northern\",\n",
    "    \"Central\",\n",
    "    \"Central\",\n",
    "    \"Southwestern\",\n",
    "    \"Northern\",\n",
    "    \"Northern\",\n",
    "    \"Northern\",\n",
    "]\n",
    "\n",
    "counties"
   ]
  },
  {
   "cell_type": "code",
   "execution_count": 2,
   "id": "02339735-2fe5-466d-9c2f-fe1cb1e0e366",
   "metadata": {},
   "outputs": [
    {
     "data": {
      "text/plain": [
       "array(['Northern', 'Central', 'Southwestern'], dtype=object)"
      ]
     },
     "execution_count": 2,
     "metadata": {},
     "output_type": "execute_result"
    }
   ],
   "source": [
    "counties[\"Region\"].unique()"
   ]
  },
  {
   "cell_type": "code",
   "execution_count": 3,
   "id": "df9de657-f9d3-47bd-9e50-a8852e9beb45",
   "metadata": {},
   "outputs": [
    {
     "data": {
      "text/plain": [
       "Northern        5\n",
       "Central         3\n",
       "Southwestern    1\n",
       "Name: Region, dtype: int64"
      ]
     },
     "execution_count": 3,
     "metadata": {},
     "output_type": "execute_result"
    }
   ],
   "source": [
    "counties[\"Region\"].value_counts()"
   ]
  },
  {
   "cell_type": "code",
   "execution_count": 4,
   "id": "a4e8f8d8-9742-48c5-96b1-b450ce93a28c",
   "metadata": {},
   "outputs": [
    {
     "data": {
      "text/plain": [
       "Alexandria         80847\n",
       "Arlington          94880\n",
       "Fairfax           105416\n",
       "Falls Church      114409\n",
       "Prince William     91098\n",
       "dtype: int64"
      ]
     },
     "execution_count": 4,
     "metadata": {},
     "output_type": "execute_result"
    }
   ],
   "source": [
    "median_income_series[median_income_series > 75000]"
   ]
  },
  {
   "cell_type": "code",
   "execution_count": 7,
   "id": "6b6c8b46-b78d-4db1-81a5-b6b7dcec4900",
   "metadata": {},
   "outputs": [
    {
     "data": {
      "text/html": [
       "<div>\n",
       "<style scoped>\n",
       "    .dataframe tbody tr th:only-of-type {\n",
       "        vertical-align: middle;\n",
       "    }\n",
       "\n",
       "    .dataframe tbody tr th {\n",
       "        vertical-align: top;\n",
       "    }\n",
       "\n",
       "    .dataframe thead th {\n",
       "        text-align: right;\n",
       "    }\n",
       "</style>\n",
       "<table border=\"1\" class=\"dataframe\">\n",
       "  <thead>\n",
       "    <tr style=\"text-align: right;\">\n",
       "      <th></th>\n",
       "      <th>median_income</th>\n",
       "      <th>households</th>\n",
       "      <th>Region</th>\n",
       "    </tr>\n",
       "  </thead>\n",
       "  <tbody>\n",
       "    <tr>\n",
       "      <th>Alexandria</th>\n",
       "      <td>80847</td>\n",
       "      <td>68082</td>\n",
       "      <td>Northern</td>\n",
       "    </tr>\n",
       "    <tr>\n",
       "      <th>Arlington</th>\n",
       "      <td>94880</td>\n",
       "      <td>98050</td>\n",
       "      <td>Northern</td>\n",
       "    </tr>\n",
       "    <tr>\n",
       "      <th>Fairfax</th>\n",
       "      <td>105416</td>\n",
       "      <td>391627</td>\n",
       "      <td>Northern</td>\n",
       "    </tr>\n",
       "    <tr>\n",
       "      <th>Falls Church</th>\n",
       "      <td>114409</td>\n",
       "      <td>5101</td>\n",
       "      <td>Northern</td>\n",
       "    </tr>\n",
       "    <tr>\n",
       "      <th>Prince William</th>\n",
       "      <td>91098</td>\n",
       "      <td>130785</td>\n",
       "      <td>Northern</td>\n",
       "    </tr>\n",
       "  </tbody>\n",
       "</table>\n",
       "</div>"
      ],
      "text/plain": [
       "                median_income  households    Region\n",
       "Alexandria              80847       68082  Northern\n",
       "Arlington               94880       98050  Northern\n",
       "Fairfax                105416      391627  Northern\n",
       "Falls Church           114409        5101  Northern\n",
       "Prince William          91098      130785  Northern"
      ]
     },
     "execution_count": 7,
     "metadata": {},
     "output_type": "execute_result"
    }
   ],
   "source": [
    "counties[counties[\"median_income\"] > 75000]"
   ]
  },
  {
   "cell_type": "code",
   "execution_count": 8,
   "id": "b9372687-7ccf-4557-8f04-ed2c3afd30fb",
   "metadata": {},
   "outputs": [
    {
     "data": {
      "text/plain": [
       "'series'"
      ]
     },
     "metadata": {},
     "output_type": "display_data"
    },
    {
     "data": {
      "text/plain": [
       "44757"
      ]
     },
     "metadata": {},
     "output_type": "display_data"
    }
   ],
   "source": [
    "display(\"series\")\n",
    "display(median_income_series.min())"
   ]
  },
  {
   "cell_type": "code",
   "execution_count": 10,
   "id": "bbc6ea31-8e0c-4363-9124-5775dd1dd681",
   "metadata": {},
   "outputs": [
    {
     "data": {
      "text/plain": [
       "44757"
      ]
     },
     "execution_count": 10,
     "metadata": {},
     "output_type": "execute_result"
    }
   ],
   "source": [
    "counties[\"median_income\"].min()"
   ]
  },
  {
   "cell_type": "code",
   "execution_count": 11,
   "id": "49fe493f-45a2-4008-bb19-3ebc746fd9fc",
   "metadata": {},
   "outputs": [
    {
     "data": {
      "text/plain": [
       "'data frame'"
      ]
     },
     "metadata": {},
     "output_type": "display_data"
    },
    {
     "data": {
      "text/plain": [
       "median_income      44757\n",
       "households          5101\n",
       "Region           Central\n",
       "dtype: object"
      ]
     },
     "metadata": {},
     "output_type": "display_data"
    }
   ],
   "source": [
    "display(\"data frame\")\n",
    "display(counties.min())"
   ]
  },
  {
   "cell_type": "code",
   "execution_count": 12,
   "id": "ac274463-d773-426f-8990-724d5a9c0d03",
   "metadata": {},
   "outputs": [
    {
     "data": {
      "text/plain": [
       "'series'"
      ]
     },
     "metadata": {},
     "output_type": "display_data"
    },
    {
     "data": {
      "text/plain": [
       "114409"
      ]
     },
     "metadata": {},
     "output_type": "display_data"
    },
    {
     "data": {
      "text/plain": [
       "'data frame'"
      ]
     },
     "metadata": {},
     "output_type": "display_data"
    },
    {
     "data": {
      "text/plain": [
       "median_income          114409\n",
       "households             391627\n",
       "Region           Southwestern\n",
       "dtype: object"
      ]
     },
     "metadata": {},
     "output_type": "display_data"
    }
   ],
   "source": [
    "display(\"series\")\n",
    "display(median_income_series.max())\n",
    "display(\"data frame\")\n",
    "display(counties.max())"
   ]
  },
  {
   "cell_type": "code",
   "execution_count": 13,
   "id": "2fed0c23-38f8-409a-8d49-440270a746b9",
   "metadata": {},
   "outputs": [
    {
     "data": {
      "text/plain": [
       "'series'"
      ]
     },
     "metadata": {},
     "output_type": "display_data"
    },
    {
     "data": {
      "text/plain": [
       "77872.55555555556"
      ]
     },
     "metadata": {},
     "output_type": "display_data"
    },
    {
     "data": {
      "text/plain": [
       "'data frame'"
      ]
     },
     "metadata": {},
     "output_type": "display_data"
    },
    {
     "name": "stderr",
     "output_type": "stream",
     "text": [
      "<ipython-input-13-e667e741533a>:4: FutureWarning: Dropping of nuisance columns in DataFrame reductions (with 'numeric_only=None') is deprecated; in a future version this will raise TypeError.  Select only valid columns before calling the reduction.\n",
      "  display(counties.mean())\n"
     ]
    },
    {
     "data": {
      "text/plain": [
       "median_income    77872.555556\n",
       "households       86145.777778\n",
       "dtype: float64"
      ]
     },
     "metadata": {},
     "output_type": "display_data"
    }
   ],
   "source": [
    "display(\"series\")\n",
    "display(median_income_series.mean())\n",
    "display(\"data frame\")\n",
    "display(counties.mean())"
   ]
  },
  {
   "cell_type": "code",
   "execution_count": 14,
   "id": "db29b10f-e8ea-4313-8723-c66d1cd16e93",
   "metadata": {},
   "outputs": [
    {
     "data": {
      "text/plain": [
       "'series'"
      ]
     },
     "metadata": {},
     "output_type": "display_data"
    },
    {
     "data": {
      "text/plain": [
       "80847.0"
      ]
     },
     "metadata": {},
     "output_type": "display_data"
    },
    {
     "data": {
      "text/plain": [
       "'data frame'"
      ]
     },
     "metadata": {},
     "output_type": "display_data"
    },
    {
     "name": "stderr",
     "output_type": "stream",
     "text": [
      "<ipython-input-14-c4cb6942bcdd>:4: FutureWarning: Dropping of nuisance columns in DataFrame reductions (with 'numeric_only=None') is deprecated; in a future version this will raise TypeError.  Select only valid columns before calling the reduction.\n",
      "  display(counties.median())\n"
     ]
    },
    {
     "data": {
      "text/plain": [
       "median_income    80847.0\n",
       "households       28516.0\n",
       "dtype: float64"
      ]
     },
     "metadata": {},
     "output_type": "display_data"
    }
   ],
   "source": [
    "display(\"series\")\n",
    "display(median_income_series.median())\n",
    "display(\"data frame\")\n",
    "display(counties.median())"
   ]
  },
  {
   "cell_type": "code",
   "execution_count": 15,
   "id": "2f2e4d08-bdf8-482f-b389-3f952ce9224e",
   "metadata": {},
   "outputs": [
    {
     "data": {
      "text/plain": [
       "'series'"
      ]
     },
     "metadata": {},
     "output_type": "display_data"
    },
    {
     "data": {
      "text/plain": [
       "0     44757\n",
       "1     50612\n",
       "2     54110\n",
       "3     64724\n",
       "4     80847\n",
       "5     91098\n",
       "6     94880\n",
       "7    105416\n",
       "8    114409\n",
       "dtype: int64"
      ]
     },
     "metadata": {},
     "output_type": "display_data"
    },
    {
     "data": {
      "text/plain": [
       "'data frame'"
      ]
     },
     "metadata": {},
     "output_type": "display_data"
    },
    {
     "data": {
      "text/html": [
       "<div>\n",
       "<style scoped>\n",
       "    .dataframe tbody tr th:only-of-type {\n",
       "        vertical-align: middle;\n",
       "    }\n",
       "\n",
       "    .dataframe tbody tr th {\n",
       "        vertical-align: top;\n",
       "    }\n",
       "\n",
       "    .dataframe thead th {\n",
       "        text-align: right;\n",
       "    }\n",
       "</style>\n",
       "<table border=\"1\" class=\"dataframe\">\n",
       "  <thead>\n",
       "    <tr style=\"text-align: right;\">\n",
       "      <th></th>\n",
       "      <th>median_income</th>\n",
       "      <th>households</th>\n",
       "      <th>Region</th>\n",
       "    </tr>\n",
       "  </thead>\n",
       "  <tbody>\n",
       "    <tr>\n",
       "      <th>0</th>\n",
       "      <td>44757</td>\n",
       "      <td>5101</td>\n",
       "      <td>Northern</td>\n",
       "    </tr>\n",
       "    <tr>\n",
       "      <th>1</th>\n",
       "      <td>50612</td>\n",
       "      <td>12560</td>\n",
       "      <td>NaN</td>\n",
       "    </tr>\n",
       "    <tr>\n",
       "      <th>2</th>\n",
       "      <td>54110</td>\n",
       "      <td>13126</td>\n",
       "      <td>NaN</td>\n",
       "    </tr>\n",
       "    <tr>\n",
       "      <th>3</th>\n",
       "      <td>64724</td>\n",
       "      <td>27465</td>\n",
       "      <td>NaN</td>\n",
       "    </tr>\n",
       "    <tr>\n",
       "      <th>4</th>\n",
       "      <td>80847</td>\n",
       "      <td>28516</td>\n",
       "      <td>NaN</td>\n",
       "    </tr>\n",
       "    <tr>\n",
       "      <th>5</th>\n",
       "      <td>91098</td>\n",
       "      <td>68082</td>\n",
       "      <td>NaN</td>\n",
       "    </tr>\n",
       "    <tr>\n",
       "      <th>6</th>\n",
       "      <td>94880</td>\n",
       "      <td>98050</td>\n",
       "      <td>NaN</td>\n",
       "    </tr>\n",
       "    <tr>\n",
       "      <th>7</th>\n",
       "      <td>105416</td>\n",
       "      <td>130785</td>\n",
       "      <td>NaN</td>\n",
       "    </tr>\n",
       "    <tr>\n",
       "      <th>8</th>\n",
       "      <td>114409</td>\n",
       "      <td>391627</td>\n",
       "      <td>NaN</td>\n",
       "    </tr>\n",
       "  </tbody>\n",
       "</table>\n",
       "</div>"
      ],
      "text/plain": [
       "   median_income  households    Region\n",
       "0          44757        5101  Northern\n",
       "1          50612       12560       NaN\n",
       "2          54110       13126       NaN\n",
       "3          64724       27465       NaN\n",
       "4          80847       28516       NaN\n",
       "5          91098       68082       NaN\n",
       "6          94880       98050       NaN\n",
       "7         105416      130785       NaN\n",
       "8         114409      391627       NaN"
      ]
     },
     "metadata": {},
     "output_type": "display_data"
    }
   ],
   "source": [
    "display(\"series\")\n",
    "display(median_income_series.mode())\n",
    "display(\"data frame\")\n",
    "display(counties.mode())"
   ]
  },
  {
   "cell_type": "code",
   "execution_count": 16,
   "id": "5c9ffa7e-5090-4b40-a89c-f0d4a85515e6",
   "metadata": {},
   "outputs": [
    {
     "data": {
      "text/plain": [
       "'series'"
      ]
     },
     "metadata": {},
     "output_type": "display_data"
    },
    {
     "data": {
      "text/plain": [
       "25357.167231924344"
      ]
     },
     "metadata": {},
     "output_type": "display_data"
    },
    {
     "data": {
      "text/plain": [
       "'data frame'"
      ]
     },
     "metadata": {},
     "output_type": "display_data"
    },
    {
     "name": "stderr",
     "output_type": "stream",
     "text": [
      "<ipython-input-16-18660364d5dc>:4: FutureWarning: Dropping of nuisance columns in DataFrame reductions (with 'numeric_only=None') is deprecated; in a future version this will raise TypeError.  Select only valid columns before calling the reduction.\n",
      "  display(counties.std())\n"
     ]
    },
    {
     "data": {
      "text/plain": [
       "median_income     25357.167232\n",
       "households       122402.554853\n",
       "dtype: float64"
      ]
     },
     "metadata": {},
     "output_type": "display_data"
    }
   ],
   "source": [
    "display(\"series\")\n",
    "display(median_income_series.std())\n",
    "display(\"data frame\")\n",
    "display(counties.std())"
   ]
  },
  {
   "cell_type": "code",
   "execution_count": 17,
   "id": "fda1bdb9-3b57-4d25-becd-d4747edb3c73",
   "metadata": {},
   "outputs": [
    {
     "data": {
      "text/plain": [
       "'series'"
      ]
     },
     "metadata": {},
     "output_type": "display_data"
    },
    {
     "data": {
      "text/plain": [
       "642985930.0277778"
      ]
     },
     "metadata": {},
     "output_type": "display_data"
    },
    {
     "data": {
      "text/plain": [
       "'data frame'"
      ]
     },
     "metadata": {},
     "output_type": "display_data"
    },
    {
     "name": "stderr",
     "output_type": "stream",
     "text": [
      "<ipython-input-17-72f0b5a6f473>:4: FutureWarning: Dropping of nuisance columns in DataFrame reductions (with 'numeric_only=None') is deprecated; in a future version this will raise TypeError.  Select only valid columns before calling the reduction.\n",
      "  display(counties.var())\n"
     ]
    },
    {
     "data": {
      "text/plain": [
       "median_income    6.429859e+08\n",
       "households       1.498239e+10\n",
       "dtype: float64"
      ]
     },
     "metadata": {},
     "output_type": "display_data"
    }
   ],
   "source": [
    "display(\"series\")\n",
    "display(median_income_series.var())\n",
    "display(\"data frame\")\n",
    "display(counties.var())"
   ]
  },
  {
   "cell_type": "code",
   "execution_count": 18,
   "id": "50252716-9cc0-405d-bcef-5629b5ed716e",
   "metadata": {},
   "outputs": [
    {
     "data": {
      "text/plain": [
       "'series'"
      ]
     },
     "metadata": {},
     "output_type": "display_data"
    },
    {
     "data": {
      "text/plain": [
       "9"
      ]
     },
     "metadata": {},
     "output_type": "display_data"
    },
    {
     "data": {
      "text/plain": [
       "'data frame'"
      ]
     },
     "metadata": {},
     "output_type": "display_data"
    },
    {
     "data": {
      "text/plain": [
       "27"
      ]
     },
     "metadata": {},
     "output_type": "display_data"
    }
   ],
   "source": [
    "display(\"series\")\n",
    "display(median_income_series.size)\n",
    "display(\"data frame\")\n",
    "display(counties.size)"
   ]
  },
  {
   "cell_type": "code",
   "execution_count": 19,
   "id": "2e896d1f-bb47-4cbc-8432-5707d57abcca",
   "metadata": {},
   "outputs": [
    {
     "data": {
      "text/plain": [
       "count         9.000000\n",
       "mean      77872.555556\n",
       "std       25357.167232\n",
       "min       44757.000000\n",
       "25%       54110.000000\n",
       "50%       80847.000000\n",
       "75%       94880.000000\n",
       "max      114409.000000\n",
       "dtype: float64"
      ]
     },
     "execution_count": 19,
     "metadata": {},
     "output_type": "execute_result"
    }
   ],
   "source": [
    "median_income_series.describe()"
   ]
  },
  {
   "cell_type": "code",
   "execution_count": 20,
   "id": "e0a72ffc-2794-4165-a744-d8947a6d9d9e",
   "metadata": {},
   "outputs": [
    {
     "data": {
      "text/html": [
       "<div>\n",
       "<style scoped>\n",
       "    .dataframe tbody tr th:only-of-type {\n",
       "        vertical-align: middle;\n",
       "    }\n",
       "\n",
       "    .dataframe tbody tr th {\n",
       "        vertical-align: top;\n",
       "    }\n",
       "\n",
       "    .dataframe thead th {\n",
       "        text-align: right;\n",
       "    }\n",
       "</style>\n",
       "<table border=\"1\" class=\"dataframe\">\n",
       "  <thead>\n",
       "    <tr style=\"text-align: right;\">\n",
       "      <th></th>\n",
       "      <th>median_income</th>\n",
       "      <th>households</th>\n",
       "    </tr>\n",
       "  </thead>\n",
       "  <tbody>\n",
       "    <tr>\n",
       "      <th>count</th>\n",
       "      <td>9.000000</td>\n",
       "      <td>9.000000</td>\n",
       "    </tr>\n",
       "    <tr>\n",
       "      <th>mean</th>\n",
       "      <td>77872.555556</td>\n",
       "      <td>86145.777778</td>\n",
       "    </tr>\n",
       "    <tr>\n",
       "      <th>std</th>\n",
       "      <td>25357.167232</td>\n",
       "      <td>122402.554853</td>\n",
       "    </tr>\n",
       "    <tr>\n",
       "      <th>min</th>\n",
       "      <td>44757.000000</td>\n",
       "      <td>5101.000000</td>\n",
       "    </tr>\n",
       "    <tr>\n",
       "      <th>25%</th>\n",
       "      <td>54110.000000</td>\n",
       "      <td>13126.000000</td>\n",
       "    </tr>\n",
       "    <tr>\n",
       "      <th>50%</th>\n",
       "      <td>80847.000000</td>\n",
       "      <td>28516.000000</td>\n",
       "    </tr>\n",
       "    <tr>\n",
       "      <th>75%</th>\n",
       "      <td>94880.000000</td>\n",
       "      <td>98050.000000</td>\n",
       "    </tr>\n",
       "    <tr>\n",
       "      <th>max</th>\n",
       "      <td>114409.000000</td>\n",
       "      <td>391627.000000</td>\n",
       "    </tr>\n",
       "  </tbody>\n",
       "</table>\n",
       "</div>"
      ],
      "text/plain": [
       "       median_income     households\n",
       "count       9.000000       9.000000\n",
       "mean    77872.555556   86145.777778\n",
       "std     25357.167232  122402.554853\n",
       "min     44757.000000    5101.000000\n",
       "25%     54110.000000   13126.000000\n",
       "50%     80847.000000   28516.000000\n",
       "75%     94880.000000   98050.000000\n",
       "max    114409.000000  391627.000000"
      ]
     },
     "execution_count": 20,
     "metadata": {},
     "output_type": "execute_result"
    }
   ],
   "source": [
    "counties.describe()"
   ]
  },
  {
   "cell_type": "code",
   "execution_count": 21,
   "id": "6df2a20f-ad32-4818-8e0c-f2c8995321a4",
   "metadata": {},
   "outputs": [
    {
     "data": {
      "text/html": [
       "<div>\n",
       "<style scoped>\n",
       "    .dataframe tbody tr th:only-of-type {\n",
       "        vertical-align: middle;\n",
       "    }\n",
       "\n",
       "    .dataframe tbody tr th {\n",
       "        vertical-align: top;\n",
       "    }\n",
       "\n",
       "    .dataframe thead th {\n",
       "        text-align: right;\n",
       "    }\n",
       "</style>\n",
       "<table border=\"1\" class=\"dataframe\">\n",
       "  <thead>\n",
       "    <tr style=\"text-align: right;\">\n",
       "      <th></th>\n",
       "      <th>median_income</th>\n",
       "      <th>households</th>\n",
       "      <th>Region</th>\n",
       "    </tr>\n",
       "  </thead>\n",
       "  <tbody>\n",
       "    <tr>\n",
       "      <th>Alexandria</th>\n",
       "      <td>80847</td>\n",
       "      <td>68082</td>\n",
       "      <td>Northern</td>\n",
       "    </tr>\n",
       "    <tr>\n",
       "      <th>Amherst</th>\n",
       "      <td>44757</td>\n",
       "      <td>12560</td>\n",
       "      <td>Central</td>\n",
       "    </tr>\n",
       "    <tr>\n",
       "      <th>Arlington</th>\n",
       "      <td>94880</td>\n",
       "      <td>98050</td>\n",
       "      <td>Northern</td>\n",
       "    </tr>\n",
       "    <tr>\n",
       "      <th>Augusta</th>\n",
       "      <td>50612</td>\n",
       "      <td>28516</td>\n",
       "      <td>Central</td>\n",
       "    </tr>\n",
       "    <tr>\n",
       "      <th>Bedford</th>\n",
       "      <td>54110</td>\n",
       "      <td>27465</td>\n",
       "      <td>Central</td>\n",
       "    </tr>\n",
       "  </tbody>\n",
       "</table>\n",
       "</div>"
      ],
      "text/plain": [
       "            median_income  households    Region\n",
       "Alexandria          80847       68082  Northern\n",
       "Amherst             44757       12560   Central\n",
       "Arlington           94880       98050  Northern\n",
       "Augusta             50612       28516   Central\n",
       "Bedford             54110       27465   Central"
      ]
     },
     "execution_count": 21,
     "metadata": {},
     "output_type": "execute_result"
    }
   ],
   "source": [
    "counties.head()"
   ]
  },
  {
   "cell_type": "code",
   "execution_count": 23,
   "id": "10b0b350-9ac3-47c8-873c-51c0dbecfd53",
   "metadata": {},
   "outputs": [
    {
     "data": {
      "text/html": [
       "<div>\n",
       "<style scoped>\n",
       "    .dataframe tbody tr th:only-of-type {\n",
       "        vertical-align: middle;\n",
       "    }\n",
       "\n",
       "    .dataframe tbody tr th {\n",
       "        vertical-align: top;\n",
       "    }\n",
       "\n",
       "    .dataframe thead th {\n",
       "        text-align: right;\n",
       "    }\n",
       "</style>\n",
       "<table border=\"1\" class=\"dataframe\">\n",
       "  <thead>\n",
       "    <tr style=\"text-align: right;\">\n",
       "      <th></th>\n",
       "      <th>USD</th>\n",
       "      <th>JPY</th>\n",
       "      <th>BGN</th>\n",
       "      <th>CYP</th>\n",
       "      <th>CZK</th>\n",
       "      <th>DKK</th>\n",
       "      <th>EEK</th>\n",
       "      <th>GBP</th>\n",
       "      <th>HUF</th>\n",
       "      <th>LTL</th>\n",
       "      <th>...</th>\n",
       "      <th>INR</th>\n",
       "      <th>KRW</th>\n",
       "      <th>MXN</th>\n",
       "      <th>MYR</th>\n",
       "      <th>NZD</th>\n",
       "      <th>PHP</th>\n",
       "      <th>SGD</th>\n",
       "      <th>THB</th>\n",
       "      <th>ZAR</th>\n",
       "      <th>Unnamed: 42</th>\n",
       "    </tr>\n",
       "    <tr>\n",
       "      <th>Date</th>\n",
       "      <th></th>\n",
       "      <th></th>\n",
       "      <th></th>\n",
       "      <th></th>\n",
       "      <th></th>\n",
       "      <th></th>\n",
       "      <th></th>\n",
       "      <th></th>\n",
       "      <th></th>\n",
       "      <th></th>\n",
       "      <th></th>\n",
       "      <th></th>\n",
       "      <th></th>\n",
       "      <th></th>\n",
       "      <th></th>\n",
       "      <th></th>\n",
       "      <th></th>\n",
       "      <th></th>\n",
       "      <th></th>\n",
       "      <th></th>\n",
       "      <th></th>\n",
       "    </tr>\n",
       "  </thead>\n",
       "  <tbody>\n",
       "    <tr>\n",
       "      <th>2021-04-09</th>\n",
       "      <td>1.1888</td>\n",
       "      <td>130.42</td>\n",
       "      <td>1.9558</td>\n",
       "      <td>NaN</td>\n",
       "      <td>25.945</td>\n",
       "      <td>7.4372</td>\n",
       "      <td>NaN</td>\n",
       "      <td>0.86658</td>\n",
       "      <td>357.97</td>\n",
       "      <td>NaN</td>\n",
       "      <td>...</td>\n",
       "      <td>88.8145</td>\n",
       "      <td>1331.28</td>\n",
       "      <td>23.9374</td>\n",
       "      <td>4.9157</td>\n",
       "      <td>1.6860</td>\n",
       "      <td>57.764</td>\n",
       "      <td>1.5941</td>\n",
       "      <td>37.388</td>\n",
       "      <td>17.3100</td>\n",
       "      <td>NaN</td>\n",
       "    </tr>\n",
       "    <tr>\n",
       "      <th>2021-04-08</th>\n",
       "      <td>1.1873</td>\n",
       "      <td>129.71</td>\n",
       "      <td>1.9558</td>\n",
       "      <td>NaN</td>\n",
       "      <td>25.875</td>\n",
       "      <td>7.4377</td>\n",
       "      <td>NaN</td>\n",
       "      <td>0.86290</td>\n",
       "      <td>358.65</td>\n",
       "      <td>NaN</td>\n",
       "      <td>...</td>\n",
       "      <td>88.5885</td>\n",
       "      <td>1324.91</td>\n",
       "      <td>23.9497</td>\n",
       "      <td>4.9125</td>\n",
       "      <td>1.6855</td>\n",
       "      <td>57.713</td>\n",
       "      <td>1.5916</td>\n",
       "      <td>37.347</td>\n",
       "      <td>17.2677</td>\n",
       "      <td>NaN</td>\n",
       "    </tr>\n",
       "    <tr>\n",
       "      <th>2021-04-07</th>\n",
       "      <td>1.1884</td>\n",
       "      <td>130.56</td>\n",
       "      <td>1.9558</td>\n",
       "      <td>NaN</td>\n",
       "      <td>25.919</td>\n",
       "      <td>7.4365</td>\n",
       "      <td>NaN</td>\n",
       "      <td>0.86065</td>\n",
       "      <td>359.68</td>\n",
       "      <td>NaN</td>\n",
       "      <td>...</td>\n",
       "      <td>88.3675</td>\n",
       "      <td>1328.05</td>\n",
       "      <td>24.0091</td>\n",
       "      <td>4.9099</td>\n",
       "      <td>1.6907</td>\n",
       "      <td>57.965</td>\n",
       "      <td>1.5917</td>\n",
       "      <td>37.286</td>\n",
       "      <td>17.2803</td>\n",
       "      <td>NaN</td>\n",
       "    </tr>\n",
       "    <tr>\n",
       "      <th>2021-04-06</th>\n",
       "      <td>1.1812</td>\n",
       "      <td>130.27</td>\n",
       "      <td>1.9558</td>\n",
       "      <td>NaN</td>\n",
       "      <td>26.051</td>\n",
       "      <td>7.4379</td>\n",
       "      <td>NaN</td>\n",
       "      <td>0.85358</td>\n",
       "      <td>360.31</td>\n",
       "      <td>NaN</td>\n",
       "      <td>...</td>\n",
       "      <td>86.7000</td>\n",
       "      <td>1323.16</td>\n",
       "      <td>23.9395</td>\n",
       "      <td>4.8801</td>\n",
       "      <td>1.6814</td>\n",
       "      <td>57.424</td>\n",
       "      <td>1.5840</td>\n",
       "      <td>37.054</td>\n",
       "      <td>17.1399</td>\n",
       "      <td>NaN</td>\n",
       "    </tr>\n",
       "    <tr>\n",
       "      <th>2021-04-01</th>\n",
       "      <td>1.1746</td>\n",
       "      <td>130.03</td>\n",
       "      <td>1.9558</td>\n",
       "      <td>NaN</td>\n",
       "      <td>26.085</td>\n",
       "      <td>7.4379</td>\n",
       "      <td>NaN</td>\n",
       "      <td>0.85195</td>\n",
       "      <td>361.84</td>\n",
       "      <td>NaN</td>\n",
       "      <td>...</td>\n",
       "      <td>86.2275</td>\n",
       "      <td>1328.36</td>\n",
       "      <td>23.8792</td>\n",
       "      <td>4.8693</td>\n",
       "      <td>1.6806</td>\n",
       "      <td>57.076</td>\n",
       "      <td>1.5801</td>\n",
       "      <td>36.730</td>\n",
       "      <td>17.2074</td>\n",
       "      <td>NaN</td>\n",
       "    </tr>\n",
       "  </tbody>\n",
       "</table>\n",
       "<p>5 rows × 42 columns</p>\n",
       "</div>"
      ],
      "text/plain": [
       "               USD     JPY     BGN  CYP     CZK     DKK  EEK      GBP     HUF  \\\n",
       "Date                                                                            \n",
       "2021-04-09  1.1888  130.42  1.9558  NaN  25.945  7.4372  NaN  0.86658  357.97   \n",
       "2021-04-08  1.1873  129.71  1.9558  NaN  25.875  7.4377  NaN  0.86290  358.65   \n",
       "2021-04-07  1.1884  130.56  1.9558  NaN  25.919  7.4365  NaN  0.86065  359.68   \n",
       "2021-04-06  1.1812  130.27  1.9558  NaN  26.051  7.4379  NaN  0.85358  360.31   \n",
       "2021-04-01  1.1746  130.03  1.9558  NaN  26.085  7.4379  NaN  0.85195  361.84   \n",
       "\n",
       "            LTL  ...      INR      KRW      MXN     MYR     NZD     PHP  \\\n",
       "Date             ...                                                      \n",
       "2021-04-09  NaN  ...  88.8145  1331.28  23.9374  4.9157  1.6860  57.764   \n",
       "2021-04-08  NaN  ...  88.5885  1324.91  23.9497  4.9125  1.6855  57.713   \n",
       "2021-04-07  NaN  ...  88.3675  1328.05  24.0091  4.9099  1.6907  57.965   \n",
       "2021-04-06  NaN  ...  86.7000  1323.16  23.9395  4.8801  1.6814  57.424   \n",
       "2021-04-01  NaN  ...  86.2275  1328.36  23.8792  4.8693  1.6806  57.076   \n",
       "\n",
       "               SGD     THB      ZAR  Unnamed: 42  \n",
       "Date                                              \n",
       "2021-04-09  1.5941  37.388  17.3100          NaN  \n",
       "2021-04-08  1.5916  37.347  17.2677          NaN  \n",
       "2021-04-07  1.5917  37.286  17.2803          NaN  \n",
       "2021-04-06  1.5840  37.054  17.1399          NaN  \n",
       "2021-04-01  1.5801  36.730  17.2074          NaN  \n",
       "\n",
       "[5 rows x 42 columns]"
      ]
     },
     "execution_count": 23,
     "metadata": {},
     "output_type": "execute_result"
    }
   ],
   "source": [
    "rates = pd.read_csv(\"eurofxref-hist.csv\", index_col=0)\n",
    "\n",
    "rates.head()"
   ]
  },
  {
   "cell_type": "code",
   "execution_count": 24,
   "id": "78a034dd-520d-4a5f-8953-1d8c15fca3f1",
   "metadata": {},
   "outputs": [
    {
     "data": {
      "text/html": [
       "<div>\n",
       "<style scoped>\n",
       "    .dataframe tbody tr th:only-of-type {\n",
       "        vertical-align: middle;\n",
       "    }\n",
       "\n",
       "    .dataframe tbody tr th {\n",
       "        vertical-align: top;\n",
       "    }\n",
       "\n",
       "    .dataframe thead th {\n",
       "        text-align: right;\n",
       "    }\n",
       "</style>\n",
       "<table border=\"1\" class=\"dataframe\">\n",
       "  <thead>\n",
       "    <tr style=\"text-align: right;\">\n",
       "      <th></th>\n",
       "      <th>USD</th>\n",
       "      <th>JPY</th>\n",
       "      <th>BGN</th>\n",
       "      <th>CYP</th>\n",
       "      <th>CZK</th>\n",
       "      <th>DKK</th>\n",
       "      <th>EEK</th>\n",
       "      <th>GBP</th>\n",
       "      <th>HUF</th>\n",
       "      <th>LTL</th>\n",
       "      <th>...</th>\n",
       "      <th>INR</th>\n",
       "      <th>KRW</th>\n",
       "      <th>MXN</th>\n",
       "      <th>MYR</th>\n",
       "      <th>NZD</th>\n",
       "      <th>PHP</th>\n",
       "      <th>SGD</th>\n",
       "      <th>THB</th>\n",
       "      <th>ZAR</th>\n",
       "      <th>Unnamed: 42</th>\n",
       "    </tr>\n",
       "  </thead>\n",
       "  <tbody>\n",
       "    <tr>\n",
       "      <th>count</th>\n",
       "      <td>5700.000000</td>\n",
       "      <td>5700.000000</td>\n",
       "      <td>5302.000000</td>\n",
       "      <td>2304.000000</td>\n",
       "      <td>5700.000000</td>\n",
       "      <td>5700.000000</td>\n",
       "      <td>3.074000e+03</td>\n",
       "      <td>5700.000000</td>\n",
       "      <td>5700.000000</td>\n",
       "      <td>4097.000000</td>\n",
       "      <td>...</td>\n",
       "      <td>3140.000000</td>\n",
       "      <td>5700.000000</td>\n",
       "      <td>3396.000000</td>\n",
       "      <td>4101.000000</td>\n",
       "      <td>5700.000000</td>\n",
       "      <td>4101.000000</td>\n",
       "      <td>5700.000000</td>\n",
       "      <td>4101.000000</td>\n",
       "      <td>5700.000000</td>\n",
       "      <td>0.0</td>\n",
       "    </tr>\n",
       "    <tr>\n",
       "      <th>mean</th>\n",
       "      <td>1.199721</td>\n",
       "      <td>127.050340</td>\n",
       "      <td>1.954491</td>\n",
       "      <td>0.578354</td>\n",
       "      <td>28.397132</td>\n",
       "      <td>7.448784</td>\n",
       "      <td>1.564660e+01</td>\n",
       "      <td>0.769134</td>\n",
       "      <td>282.249089</td>\n",
       "      <td>3.527614</td>\n",
       "      <td>...</td>\n",
       "      <td>73.935083</td>\n",
       "      <td>1349.045123</td>\n",
       "      <td>19.261575</td>\n",
       "      <td>4.549783</td>\n",
       "      <td>1.826378</td>\n",
       "      <td>59.406690</td>\n",
       "      <td>1.762216</td>\n",
       "      <td>41.687005</td>\n",
       "      <td>11.462699</td>\n",
       "      <td>NaN</td>\n",
       "    </tr>\n",
       "    <tr>\n",
       "      <th>std</th>\n",
       "      <td>0.161434</td>\n",
       "      <td>15.866719</td>\n",
       "      <td>0.003069</td>\n",
       "      <td>0.004393</td>\n",
       "      <td>3.547778</td>\n",
       "      <td>0.011455</td>\n",
       "      <td>5.329938e-15</td>\n",
       "      <td>0.100706</td>\n",
       "      <td>32.070697</td>\n",
       "      <td>0.213557</td>\n",
       "      <td>...</td>\n",
       "      <td>7.785203</td>\n",
       "      <td>167.644102</td>\n",
       "      <td>2.789707</td>\n",
       "      <td>0.318205</td>\n",
       "      <td>0.206312</td>\n",
       "      <td>5.153871</td>\n",
       "      <td>0.212641</td>\n",
       "      <td>4.676574</td>\n",
       "      <td>3.593747</td>\n",
       "      <td>NaN</td>\n",
       "    </tr>\n",
       "    <tr>\n",
       "      <th>min</th>\n",
       "      <td>0.825200</td>\n",
       "      <td>89.300000</td>\n",
       "      <td>1.944100</td>\n",
       "      <td>0.570970</td>\n",
       "      <td>22.968000</td>\n",
       "      <td>7.423400</td>\n",
       "      <td>1.564660e+01</td>\n",
       "      <td>0.571100</td>\n",
       "      <td>228.160000</td>\n",
       "      <td>3.301300</td>\n",
       "      <td>...</td>\n",
       "      <td>56.065000</td>\n",
       "      <td>938.670000</td>\n",
       "      <td>14.793900</td>\n",
       "      <td>3.819300</td>\n",
       "      <td>1.388400</td>\n",
       "      <td>46.852000</td>\n",
       "      <td>1.440000</td>\n",
       "      <td>33.204000</td>\n",
       "      <td>6.078500</td>\n",
       "      <td>NaN</td>\n",
       "    </tr>\n",
       "    <tr>\n",
       "      <th>25%</th>\n",
       "      <td>1.099700</td>\n",
       "      <td>116.157500</td>\n",
       "      <td>1.955800</td>\n",
       "      <td>0.574580</td>\n",
       "      <td>25.715000</td>\n",
       "      <td>7.439775</td>\n",
       "      <td>1.564660e+01</td>\n",
       "      <td>0.677900</td>\n",
       "      <td>253.677500</td>\n",
       "      <td>3.452800</td>\n",
       "      <td>...</td>\n",
       "      <td>68.518500</td>\n",
       "      <td>1242.355000</td>\n",
       "      <td>16.923525</td>\n",
       "      <td>4.303800</td>\n",
       "      <td>1.665300</td>\n",
       "      <td>55.898000</td>\n",
       "      <td>1.586000</td>\n",
       "      <td>38.213000</td>\n",
       "      <td>8.430500</td>\n",
       "      <td>NaN</td>\n",
       "    </tr>\n",
       "    <tr>\n",
       "      <th>50%</th>\n",
       "      <td>1.202550</td>\n",
       "      <td>127.705000</td>\n",
       "      <td>1.955800</td>\n",
       "      <td>0.577800</td>\n",
       "      <td>27.068000</td>\n",
       "      <td>7.449100</td>\n",
       "      <td>1.564660e+01</td>\n",
       "      <td>0.790300</td>\n",
       "      <td>273.460000</td>\n",
       "      <td>3.452800</td>\n",
       "      <td>...</td>\n",
       "      <td>73.858000</td>\n",
       "      <td>1323.285000</td>\n",
       "      <td>18.308650</td>\n",
       "      <td>4.617100</td>\n",
       "      <td>1.791050</td>\n",
       "      <td>59.404000</td>\n",
       "      <td>1.696800</td>\n",
       "      <td>40.671000</td>\n",
       "      <td>10.484700</td>\n",
       "      <td>NaN</td>\n",
       "    </tr>\n",
       "    <tr>\n",
       "      <th>75%</th>\n",
       "      <td>1.319325</td>\n",
       "      <td>135.582500</td>\n",
       "      <td>1.955800</td>\n",
       "      <td>0.582000</td>\n",
       "      <td>30.563000</td>\n",
       "      <td>7.458800</td>\n",
       "      <td>1.564660e+01</td>\n",
       "      <td>0.863400</td>\n",
       "      <td>309.480000</td>\n",
       "      <td>3.452800</td>\n",
       "      <td>...</td>\n",
       "      <td>79.791125</td>\n",
       "      <td>1441.760000</td>\n",
       "      <td>21.428600</td>\n",
       "      <td>4.782800</td>\n",
       "      <td>1.982100</td>\n",
       "      <td>63.020000</td>\n",
       "      <td>1.990900</td>\n",
       "      <td>44.969000</td>\n",
       "      <td>14.528775</td>\n",
       "      <td>NaN</td>\n",
       "    </tr>\n",
       "    <tr>\n",
       "      <th>max</th>\n",
       "      <td>1.599000</td>\n",
       "      <td>169.750000</td>\n",
       "      <td>1.962000</td>\n",
       "      <td>0.588800</td>\n",
       "      <td>38.583000</td>\n",
       "      <td>7.473200</td>\n",
       "      <td>1.564660e+01</td>\n",
       "      <td>0.978550</td>\n",
       "      <td>369.360000</td>\n",
       "      <td>4.717400</td>\n",
       "      <td>...</td>\n",
       "      <td>92.065000</td>\n",
       "      <td>1993.950000</td>\n",
       "      <td>27.089600</td>\n",
       "      <td>5.185700</td>\n",
       "      <td>2.553500</td>\n",
       "      <td>72.651000</td>\n",
       "      <td>2.232300</td>\n",
       "      <td>53.536000</td>\n",
       "      <td>20.845200</td>\n",
       "      <td>NaN</td>\n",
       "    </tr>\n",
       "  </tbody>\n",
       "</table>\n",
       "<p>8 rows × 42 columns</p>\n",
       "</div>"
      ],
      "text/plain": [
       "               USD          JPY          BGN          CYP          CZK  \\\n",
       "count  5700.000000  5700.000000  5302.000000  2304.000000  5700.000000   \n",
       "mean      1.199721   127.050340     1.954491     0.578354    28.397132   \n",
       "std       0.161434    15.866719     0.003069     0.004393     3.547778   \n",
       "min       0.825200    89.300000     1.944100     0.570970    22.968000   \n",
       "25%       1.099700   116.157500     1.955800     0.574580    25.715000   \n",
       "50%       1.202550   127.705000     1.955800     0.577800    27.068000   \n",
       "75%       1.319325   135.582500     1.955800     0.582000    30.563000   \n",
       "max       1.599000   169.750000     1.962000     0.588800    38.583000   \n",
       "\n",
       "               DKK           EEK          GBP          HUF          LTL  ...  \\\n",
       "count  5700.000000  3.074000e+03  5700.000000  5700.000000  4097.000000  ...   \n",
       "mean      7.448784  1.564660e+01     0.769134   282.249089     3.527614  ...   \n",
       "std       0.011455  5.329938e-15     0.100706    32.070697     0.213557  ...   \n",
       "min       7.423400  1.564660e+01     0.571100   228.160000     3.301300  ...   \n",
       "25%       7.439775  1.564660e+01     0.677900   253.677500     3.452800  ...   \n",
       "50%       7.449100  1.564660e+01     0.790300   273.460000     3.452800  ...   \n",
       "75%       7.458800  1.564660e+01     0.863400   309.480000     3.452800  ...   \n",
       "max       7.473200  1.564660e+01     0.978550   369.360000     4.717400  ...   \n",
       "\n",
       "               INR          KRW          MXN          MYR          NZD  \\\n",
       "count  3140.000000  5700.000000  3396.000000  4101.000000  5700.000000   \n",
       "mean     73.935083  1349.045123    19.261575     4.549783     1.826378   \n",
       "std       7.785203   167.644102     2.789707     0.318205     0.206312   \n",
       "min      56.065000   938.670000    14.793900     3.819300     1.388400   \n",
       "25%      68.518500  1242.355000    16.923525     4.303800     1.665300   \n",
       "50%      73.858000  1323.285000    18.308650     4.617100     1.791050   \n",
       "75%      79.791125  1441.760000    21.428600     4.782800     1.982100   \n",
       "max      92.065000  1993.950000    27.089600     5.185700     2.553500   \n",
       "\n",
       "               PHP          SGD          THB          ZAR  Unnamed: 42  \n",
       "count  4101.000000  5700.000000  4101.000000  5700.000000          0.0  \n",
       "mean     59.406690     1.762216    41.687005    11.462699          NaN  \n",
       "std       5.153871     0.212641     4.676574     3.593747          NaN  \n",
       "min      46.852000     1.440000    33.204000     6.078500          NaN  \n",
       "25%      55.898000     1.586000    38.213000     8.430500          NaN  \n",
       "50%      59.404000     1.696800    40.671000    10.484700          NaN  \n",
       "75%      63.020000     1.990900    44.969000    14.528775          NaN  \n",
       "max      72.651000     2.232300    53.536000    20.845200          NaN  \n",
       "\n",
       "[8 rows x 42 columns]"
      ]
     },
     "execution_count": 24,
     "metadata": {},
     "output_type": "execute_result"
    }
   ],
   "source": [
    "rates.describe()"
   ]
  },
  {
   "cell_type": "code",
   "execution_count": 25,
   "id": "d70db392-978e-4806-b451-b469fee1a01f",
   "metadata": {},
   "outputs": [
    {
     "data": {
      "text/html": [
       "<div>\n",
       "<style scoped>\n",
       "    .dataframe tbody tr th:only-of-type {\n",
       "        vertical-align: middle;\n",
       "    }\n",
       "\n",
       "    .dataframe tbody tr th {\n",
       "        vertical-align: top;\n",
       "    }\n",
       "\n",
       "    .dataframe thead th {\n",
       "        text-align: right;\n",
       "    }\n",
       "</style>\n",
       "<table border=\"1\" class=\"dataframe\">\n",
       "  <thead>\n",
       "    <tr style=\"text-align: right;\">\n",
       "      <th></th>\n",
       "      <th>USD</th>\n",
       "      <th>JPY</th>\n",
       "      <th>CZK</th>\n",
       "      <th>DKK</th>\n",
       "      <th>EEK</th>\n",
       "      <th>GBP</th>\n",
       "      <th>HUF</th>\n",
       "      <th>LTL</th>\n",
       "      <th>LVL</th>\n",
       "      <th>MTL</th>\n",
       "      <th>...</th>\n",
       "      <th>INR</th>\n",
       "      <th>KRW</th>\n",
       "      <th>MXN</th>\n",
       "      <th>MYR</th>\n",
       "      <th>NZD</th>\n",
       "      <th>PHP</th>\n",
       "      <th>SGD</th>\n",
       "      <th>THB</th>\n",
       "      <th>ZAR</th>\n",
       "      <th>Unnamed: 42</th>\n",
       "    </tr>\n",
       "    <tr>\n",
       "      <th>Date</th>\n",
       "      <th></th>\n",
       "      <th></th>\n",
       "      <th></th>\n",
       "      <th></th>\n",
       "      <th></th>\n",
       "      <th></th>\n",
       "      <th></th>\n",
       "      <th></th>\n",
       "      <th></th>\n",
       "      <th></th>\n",
       "      <th></th>\n",
       "      <th></th>\n",
       "      <th></th>\n",
       "      <th></th>\n",
       "      <th></th>\n",
       "      <th></th>\n",
       "      <th></th>\n",
       "      <th></th>\n",
       "      <th></th>\n",
       "      <th></th>\n",
       "      <th></th>\n",
       "    </tr>\n",
       "  </thead>\n",
       "  <tbody>\n",
       "    <tr>\n",
       "      <th>2021-04-09</th>\n",
       "      <td>1.1888</td>\n",
       "      <td>130.42</td>\n",
       "      <td>25.945</td>\n",
       "      <td>7.4372</td>\n",
       "      <td>NaN</td>\n",
       "      <td>0.86658</td>\n",
       "      <td>357.97</td>\n",
       "      <td>NaN</td>\n",
       "      <td>NaN</td>\n",
       "      <td>NaN</td>\n",
       "      <td>...</td>\n",
       "      <td>88.8145</td>\n",
       "      <td>1331.28</td>\n",
       "      <td>23.9374</td>\n",
       "      <td>4.9157</td>\n",
       "      <td>1.6860</td>\n",
       "      <td>57.764</td>\n",
       "      <td>1.5941</td>\n",
       "      <td>37.388</td>\n",
       "      <td>17.3100</td>\n",
       "      <td>NaN</td>\n",
       "    </tr>\n",
       "    <tr>\n",
       "      <th>2021-04-08</th>\n",
       "      <td>1.1873</td>\n",
       "      <td>129.71</td>\n",
       "      <td>25.875</td>\n",
       "      <td>7.4377</td>\n",
       "      <td>NaN</td>\n",
       "      <td>0.86290</td>\n",
       "      <td>358.65</td>\n",
       "      <td>NaN</td>\n",
       "      <td>NaN</td>\n",
       "      <td>NaN</td>\n",
       "      <td>...</td>\n",
       "      <td>88.5885</td>\n",
       "      <td>1324.91</td>\n",
       "      <td>23.9497</td>\n",
       "      <td>4.9125</td>\n",
       "      <td>1.6855</td>\n",
       "      <td>57.713</td>\n",
       "      <td>1.5916</td>\n",
       "      <td>37.347</td>\n",
       "      <td>17.2677</td>\n",
       "      <td>NaN</td>\n",
       "    </tr>\n",
       "    <tr>\n",
       "      <th>2021-04-07</th>\n",
       "      <td>1.1884</td>\n",
       "      <td>130.56</td>\n",
       "      <td>25.919</td>\n",
       "      <td>7.4365</td>\n",
       "      <td>NaN</td>\n",
       "      <td>0.86065</td>\n",
       "      <td>359.68</td>\n",
       "      <td>NaN</td>\n",
       "      <td>NaN</td>\n",
       "      <td>NaN</td>\n",
       "      <td>...</td>\n",
       "      <td>88.3675</td>\n",
       "      <td>1328.05</td>\n",
       "      <td>24.0091</td>\n",
       "      <td>4.9099</td>\n",
       "      <td>1.6907</td>\n",
       "      <td>57.965</td>\n",
       "      <td>1.5917</td>\n",
       "      <td>37.286</td>\n",
       "      <td>17.2803</td>\n",
       "      <td>NaN</td>\n",
       "    </tr>\n",
       "    <tr>\n",
       "      <th>2021-04-06</th>\n",
       "      <td>1.1812</td>\n",
       "      <td>130.27</td>\n",
       "      <td>26.051</td>\n",
       "      <td>7.4379</td>\n",
       "      <td>NaN</td>\n",
       "      <td>0.85358</td>\n",
       "      <td>360.31</td>\n",
       "      <td>NaN</td>\n",
       "      <td>NaN</td>\n",
       "      <td>NaN</td>\n",
       "      <td>...</td>\n",
       "      <td>86.7000</td>\n",
       "      <td>1323.16</td>\n",
       "      <td>23.9395</td>\n",
       "      <td>4.8801</td>\n",
       "      <td>1.6814</td>\n",
       "      <td>57.424</td>\n",
       "      <td>1.5840</td>\n",
       "      <td>37.054</td>\n",
       "      <td>17.1399</td>\n",
       "      <td>NaN</td>\n",
       "    </tr>\n",
       "    <tr>\n",
       "      <th>2021-04-01</th>\n",
       "      <td>1.1746</td>\n",
       "      <td>130.03</td>\n",
       "      <td>26.085</td>\n",
       "      <td>7.4379</td>\n",
       "      <td>NaN</td>\n",
       "      <td>0.85195</td>\n",
       "      <td>361.84</td>\n",
       "      <td>NaN</td>\n",
       "      <td>NaN</td>\n",
       "      <td>NaN</td>\n",
       "      <td>...</td>\n",
       "      <td>86.2275</td>\n",
       "      <td>1328.36</td>\n",
       "      <td>23.8792</td>\n",
       "      <td>4.8693</td>\n",
       "      <td>1.6806</td>\n",
       "      <td>57.076</td>\n",
       "      <td>1.5801</td>\n",
       "      <td>36.730</td>\n",
       "      <td>17.2074</td>\n",
       "      <td>NaN</td>\n",
       "    </tr>\n",
       "    <tr>\n",
       "      <th>...</th>\n",
       "      <td>...</td>\n",
       "      <td>...</td>\n",
       "      <td>...</td>\n",
       "      <td>...</td>\n",
       "      <td>...</td>\n",
       "      <td>...</td>\n",
       "      <td>...</td>\n",
       "      <td>...</td>\n",
       "      <td>...</td>\n",
       "      <td>...</td>\n",
       "      <td>...</td>\n",
       "      <td>...</td>\n",
       "      <td>...</td>\n",
       "      <td>...</td>\n",
       "      <td>...</td>\n",
       "      <td>...</td>\n",
       "      <td>...</td>\n",
       "      <td>...</td>\n",
       "      <td>...</td>\n",
       "      <td>...</td>\n",
       "      <td>...</td>\n",
       "    </tr>\n",
       "    <tr>\n",
       "      <th>1999-01-08</th>\n",
       "      <td>1.1659</td>\n",
       "      <td>130.09</td>\n",
       "      <td>34.938</td>\n",
       "      <td>7.4433</td>\n",
       "      <td>15.6466</td>\n",
       "      <td>0.70940</td>\n",
       "      <td>250.15</td>\n",
       "      <td>4.6643</td>\n",
       "      <td>0.6654</td>\n",
       "      <td>0.4419</td>\n",
       "      <td>...</td>\n",
       "      <td>NaN</td>\n",
       "      <td>1366.73</td>\n",
       "      <td>NaN</td>\n",
       "      <td>NaN</td>\n",
       "      <td>2.1557</td>\n",
       "      <td>NaN</td>\n",
       "      <td>1.9537</td>\n",
       "      <td>NaN</td>\n",
       "      <td>6.7855</td>\n",
       "      <td>NaN</td>\n",
       "    </tr>\n",
       "    <tr>\n",
       "      <th>1999-01-07</th>\n",
       "      <td>1.1632</td>\n",
       "      <td>129.43</td>\n",
       "      <td>34.886</td>\n",
       "      <td>7.4431</td>\n",
       "      <td>15.6466</td>\n",
       "      <td>0.70585</td>\n",
       "      <td>250.09</td>\n",
       "      <td>4.6548</td>\n",
       "      <td>0.6627</td>\n",
       "      <td>0.4413</td>\n",
       "      <td>...</td>\n",
       "      <td>NaN</td>\n",
       "      <td>1337.16</td>\n",
       "      <td>NaN</td>\n",
       "      <td>NaN</td>\n",
       "      <td>2.1531</td>\n",
       "      <td>NaN</td>\n",
       "      <td>1.9436</td>\n",
       "      <td>NaN</td>\n",
       "      <td>6.8283</td>\n",
       "      <td>NaN</td>\n",
       "    </tr>\n",
       "    <tr>\n",
       "      <th>1999-01-06</th>\n",
       "      <td>1.1743</td>\n",
       "      <td>131.42</td>\n",
       "      <td>34.850</td>\n",
       "      <td>7.4452</td>\n",
       "      <td>15.6466</td>\n",
       "      <td>0.70760</td>\n",
       "      <td>250.67</td>\n",
       "      <td>4.6994</td>\n",
       "      <td>0.6649</td>\n",
       "      <td>0.4420</td>\n",
       "      <td>...</td>\n",
       "      <td>NaN</td>\n",
       "      <td>1359.54</td>\n",
       "      <td>NaN</td>\n",
       "      <td>NaN</td>\n",
       "      <td>2.1890</td>\n",
       "      <td>NaN</td>\n",
       "      <td>1.9699</td>\n",
       "      <td>NaN</td>\n",
       "      <td>6.7307</td>\n",
       "      <td>NaN</td>\n",
       "    </tr>\n",
       "    <tr>\n",
       "      <th>1999-01-05</th>\n",
       "      <td>1.1790</td>\n",
       "      <td>130.96</td>\n",
       "      <td>34.917</td>\n",
       "      <td>7.4495</td>\n",
       "      <td>15.6466</td>\n",
       "      <td>0.71220</td>\n",
       "      <td>250.80</td>\n",
       "      <td>4.7174</td>\n",
       "      <td>0.6657</td>\n",
       "      <td>0.4432</td>\n",
       "      <td>...</td>\n",
       "      <td>NaN</td>\n",
       "      <td>1373.01</td>\n",
       "      <td>NaN</td>\n",
       "      <td>NaN</td>\n",
       "      <td>2.2011</td>\n",
       "      <td>NaN</td>\n",
       "      <td>1.9655</td>\n",
       "      <td>NaN</td>\n",
       "      <td>6.7975</td>\n",
       "      <td>NaN</td>\n",
       "    </tr>\n",
       "    <tr>\n",
       "      <th>1999-01-04</th>\n",
       "      <td>1.1789</td>\n",
       "      <td>133.73</td>\n",
       "      <td>35.107</td>\n",
       "      <td>7.4501</td>\n",
       "      <td>15.6466</td>\n",
       "      <td>0.71110</td>\n",
       "      <td>251.48</td>\n",
       "      <td>4.7170</td>\n",
       "      <td>0.6668</td>\n",
       "      <td>0.4432</td>\n",
       "      <td>...</td>\n",
       "      <td>NaN</td>\n",
       "      <td>1398.59</td>\n",
       "      <td>NaN</td>\n",
       "      <td>NaN</td>\n",
       "      <td>2.2229</td>\n",
       "      <td>NaN</td>\n",
       "      <td>1.9554</td>\n",
       "      <td>NaN</td>\n",
       "      <td>6.9358</td>\n",
       "      <td>NaN</td>\n",
       "    </tr>\n",
       "  </tbody>\n",
       "</table>\n",
       "<p>5700 rows × 40 columns</p>\n",
       "</div>"
      ],
      "text/plain": [
       "               USD     JPY     CZK     DKK      EEK      GBP     HUF     LTL  \\\n",
       "Date                                                                           \n",
       "2021-04-09  1.1888  130.42  25.945  7.4372      NaN  0.86658  357.97     NaN   \n",
       "2021-04-08  1.1873  129.71  25.875  7.4377      NaN  0.86290  358.65     NaN   \n",
       "2021-04-07  1.1884  130.56  25.919  7.4365      NaN  0.86065  359.68     NaN   \n",
       "2021-04-06  1.1812  130.27  26.051  7.4379      NaN  0.85358  360.31     NaN   \n",
       "2021-04-01  1.1746  130.03  26.085  7.4379      NaN  0.85195  361.84     NaN   \n",
       "...            ...     ...     ...     ...      ...      ...     ...     ...   \n",
       "1999-01-08  1.1659  130.09  34.938  7.4433  15.6466  0.70940  250.15  4.6643   \n",
       "1999-01-07  1.1632  129.43  34.886  7.4431  15.6466  0.70585  250.09  4.6548   \n",
       "1999-01-06  1.1743  131.42  34.850  7.4452  15.6466  0.70760  250.67  4.6994   \n",
       "1999-01-05  1.1790  130.96  34.917  7.4495  15.6466  0.71220  250.80  4.7174   \n",
       "1999-01-04  1.1789  133.73  35.107  7.4501  15.6466  0.71110  251.48  4.7170   \n",
       "\n",
       "               LVL     MTL  ...      INR      KRW      MXN     MYR     NZD  \\\n",
       "Date                        ...                                              \n",
       "2021-04-09     NaN     NaN  ...  88.8145  1331.28  23.9374  4.9157  1.6860   \n",
       "2021-04-08     NaN     NaN  ...  88.5885  1324.91  23.9497  4.9125  1.6855   \n",
       "2021-04-07     NaN     NaN  ...  88.3675  1328.05  24.0091  4.9099  1.6907   \n",
       "2021-04-06     NaN     NaN  ...  86.7000  1323.16  23.9395  4.8801  1.6814   \n",
       "2021-04-01     NaN     NaN  ...  86.2275  1328.36  23.8792  4.8693  1.6806   \n",
       "...            ...     ...  ...      ...      ...      ...     ...     ...   \n",
       "1999-01-08  0.6654  0.4419  ...      NaN  1366.73      NaN     NaN  2.1557   \n",
       "1999-01-07  0.6627  0.4413  ...      NaN  1337.16      NaN     NaN  2.1531   \n",
       "1999-01-06  0.6649  0.4420  ...      NaN  1359.54      NaN     NaN  2.1890   \n",
       "1999-01-05  0.6657  0.4432  ...      NaN  1373.01      NaN     NaN  2.2011   \n",
       "1999-01-04  0.6668  0.4432  ...      NaN  1398.59      NaN     NaN  2.2229   \n",
       "\n",
       "               PHP     SGD     THB      ZAR  Unnamed: 42  \n",
       "Date                                                      \n",
       "2021-04-09  57.764  1.5941  37.388  17.3100          NaN  \n",
       "2021-04-08  57.713  1.5916  37.347  17.2677          NaN  \n",
       "2021-04-07  57.965  1.5917  37.286  17.2803          NaN  \n",
       "2021-04-06  57.424  1.5840  37.054  17.1399          NaN  \n",
       "2021-04-01  57.076  1.5801  36.730  17.2074          NaN  \n",
       "...            ...     ...     ...      ...          ...  \n",
       "1999-01-08     NaN  1.9537     NaN   6.7855          NaN  \n",
       "1999-01-07     NaN  1.9436     NaN   6.8283          NaN  \n",
       "1999-01-06     NaN  1.9699     NaN   6.7307          NaN  \n",
       "1999-01-05     NaN  1.9655     NaN   6.7975          NaN  \n",
       "1999-01-04     NaN  1.9554     NaN   6.9358          NaN  \n",
       "\n",
       "[5700 rows x 40 columns]"
      ]
     },
     "execution_count": 25,
     "metadata": {},
     "output_type": "execute_result"
    }
   ],
   "source": [
    "rates.drop(columns=[\"CYP\",\"BGN\"], inplace=True)\n",
    "\n",
    "rates"
   ]
  },
  {
   "cell_type": "code",
   "execution_count": 26,
   "id": "c1d0f443-9041-48dd-978c-0a3a34dedcc4",
   "metadata": {},
   "outputs": [
    {
     "data": {
      "text/html": [
       "<div>\n",
       "<style scoped>\n",
       "    .dataframe tbody tr th:only-of-type {\n",
       "        vertical-align: middle;\n",
       "    }\n",
       "\n",
       "    .dataframe tbody tr th {\n",
       "        vertical-align: top;\n",
       "    }\n",
       "\n",
       "    .dataframe thead th {\n",
       "        text-align: right;\n",
       "    }\n",
       "</style>\n",
       "<table border=\"1\" class=\"dataframe\">\n",
       "  <thead>\n",
       "    <tr style=\"text-align: right;\">\n",
       "      <th></th>\n",
       "      <th>USD</th>\n",
       "      <th>JPY</th>\n",
       "      <th>CAD</th>\n",
       "    </tr>\n",
       "    <tr>\n",
       "      <th>Date</th>\n",
       "      <th></th>\n",
       "      <th></th>\n",
       "      <th></th>\n",
       "    </tr>\n",
       "  </thead>\n",
       "  <tbody>\n",
       "    <tr>\n",
       "      <th>2021-04-09</th>\n",
       "      <td>1.1888</td>\n",
       "      <td>130.42</td>\n",
       "      <td>1.4950</td>\n",
       "    </tr>\n",
       "    <tr>\n",
       "      <th>2021-04-08</th>\n",
       "      <td>1.1873</td>\n",
       "      <td>129.71</td>\n",
       "      <td>1.4947</td>\n",
       "    </tr>\n",
       "    <tr>\n",
       "      <th>2021-04-07</th>\n",
       "      <td>1.1884</td>\n",
       "      <td>130.56</td>\n",
       "      <td>1.4982</td>\n",
       "    </tr>\n",
       "    <tr>\n",
       "      <th>2021-04-06</th>\n",
       "      <td>1.1812</td>\n",
       "      <td>130.27</td>\n",
       "      <td>1.4840</td>\n",
       "    </tr>\n",
       "    <tr>\n",
       "      <th>2021-04-01</th>\n",
       "      <td>1.1746</td>\n",
       "      <td>130.03</td>\n",
       "      <td>1.4787</td>\n",
       "    </tr>\n",
       "    <tr>\n",
       "      <th>...</th>\n",
       "      <td>...</td>\n",
       "      <td>...</td>\n",
       "      <td>...</td>\n",
       "    </tr>\n",
       "    <tr>\n",
       "      <th>1999-01-08</th>\n",
       "      <td>1.1659</td>\n",
       "      <td>130.09</td>\n",
       "      <td>1.7643</td>\n",
       "    </tr>\n",
       "    <tr>\n",
       "      <th>1999-01-07</th>\n",
       "      <td>1.1632</td>\n",
       "      <td>129.43</td>\n",
       "      <td>1.7602</td>\n",
       "    </tr>\n",
       "    <tr>\n",
       "      <th>1999-01-06</th>\n",
       "      <td>1.1743</td>\n",
       "      <td>131.42</td>\n",
       "      <td>1.7711</td>\n",
       "    </tr>\n",
       "    <tr>\n",
       "      <th>1999-01-05</th>\n",
       "      <td>1.1790</td>\n",
       "      <td>130.96</td>\n",
       "      <td>1.7965</td>\n",
       "    </tr>\n",
       "    <tr>\n",
       "      <th>1999-01-04</th>\n",
       "      <td>1.1789</td>\n",
       "      <td>133.73</td>\n",
       "      <td>1.8004</td>\n",
       "    </tr>\n",
       "  </tbody>\n",
       "</table>\n",
       "<p>5700 rows × 3 columns</p>\n",
       "</div>"
      ],
      "text/plain": [
       "               USD     JPY     CAD\n",
       "Date                              \n",
       "2021-04-09  1.1888  130.42  1.4950\n",
       "2021-04-08  1.1873  129.71  1.4947\n",
       "2021-04-07  1.1884  130.56  1.4982\n",
       "2021-04-06  1.1812  130.27  1.4840\n",
       "2021-04-01  1.1746  130.03  1.4787\n",
       "...            ...     ...     ...\n",
       "1999-01-08  1.1659  130.09  1.7643\n",
       "1999-01-07  1.1632  129.43  1.7602\n",
       "1999-01-06  1.1743  131.42  1.7711\n",
       "1999-01-05  1.1790  130.96  1.7965\n",
       "1999-01-04  1.1789  133.73  1.8004\n",
       "\n",
       "[5700 rows x 3 columns]"
      ]
     },
     "execution_count": 26,
     "metadata": {},
     "output_type": "execute_result"
    }
   ],
   "source": [
    "rates[ [\"USD\", \"JPY\", \"CAD\"] ]"
   ]
  },
  {
   "cell_type": "code",
   "execution_count": 27,
   "id": "79358908-dafb-4d5f-9183-fdfaea4e5769",
   "metadata": {},
   "outputs": [
    {
     "data": {
      "text/html": [
       "<div>\n",
       "<style scoped>\n",
       "    .dataframe tbody tr th:only-of-type {\n",
       "        vertical-align: middle;\n",
       "    }\n",
       "\n",
       "    .dataframe tbody tr th {\n",
       "        vertical-align: top;\n",
       "    }\n",
       "\n",
       "    .dataframe thead th {\n",
       "        text-align: right;\n",
       "    }\n",
       "</style>\n",
       "<table border=\"1\" class=\"dataframe\">\n",
       "  <thead>\n",
       "    <tr style=\"text-align: right;\">\n",
       "      <th></th>\n",
       "      <th>YEAR</th>\n",
       "      <th>QUARTER</th>\n",
       "      <th>MONTH</th>\n",
       "      <th>DAY_OF_MONTH</th>\n",
       "      <th>DAY_OF_WEEK</th>\n",
       "      <th>FL_DATE</th>\n",
       "      <th>OP_UNIQUE_CARRIER</th>\n",
       "      <th>TAIL_NUM</th>\n",
       "      <th>ORIGIN</th>\n",
       "      <th>DEST</th>\n",
       "      <th>...</th>\n",
       "      <th>CANCELLED</th>\n",
       "      <th>DIVERTED</th>\n",
       "      <th>AIR_TIME</th>\n",
       "      <th>DISTANCE</th>\n",
       "      <th>CARRIER_DELAY</th>\n",
       "      <th>WEATHER_DELAY</th>\n",
       "      <th>NAS_DELAY</th>\n",
       "      <th>SECURITY_DELAY</th>\n",
       "      <th>LATE_AIRCRAFT_DELAY</th>\n",
       "      <th>Unnamed: 31</th>\n",
       "    </tr>\n",
       "  </thead>\n",
       "  <tbody>\n",
       "    <tr>\n",
       "      <th>0</th>\n",
       "      <td>2020</td>\n",
       "      <td>2</td>\n",
       "      <td>5</td>\n",
       "      <td>1</td>\n",
       "      <td>5</td>\n",
       "      <td>2020-05-01</td>\n",
       "      <td>NK</td>\n",
       "      <td>N629NK</td>\n",
       "      <td>ACY</td>\n",
       "      <td>MCO</td>\n",
       "      <td>...</td>\n",
       "      <td>0.0</td>\n",
       "      <td>0.0</td>\n",
       "      <td>125.0</td>\n",
       "      <td>852.0</td>\n",
       "      <td>NaN</td>\n",
       "      <td>NaN</td>\n",
       "      <td>NaN</td>\n",
       "      <td>NaN</td>\n",
       "      <td>NaN</td>\n",
       "      <td>NaN</td>\n",
       "    </tr>\n",
       "    <tr>\n",
       "      <th>1</th>\n",
       "      <td>2020</td>\n",
       "      <td>2</td>\n",
       "      <td>5</td>\n",
       "      <td>4</td>\n",
       "      <td>1</td>\n",
       "      <td>2020-05-04</td>\n",
       "      <td>NK</td>\n",
       "      <td>N926NK</td>\n",
       "      <td>ACY</td>\n",
       "      <td>MCO</td>\n",
       "      <td>...</td>\n",
       "      <td>0.0</td>\n",
       "      <td>0.0</td>\n",
       "      <td>118.0</td>\n",
       "      <td>852.0</td>\n",
       "      <td>NaN</td>\n",
       "      <td>NaN</td>\n",
       "      <td>NaN</td>\n",
       "      <td>NaN</td>\n",
       "      <td>NaN</td>\n",
       "      <td>NaN</td>\n",
       "    </tr>\n",
       "    <tr>\n",
       "      <th>2</th>\n",
       "      <td>2020</td>\n",
       "      <td>2</td>\n",
       "      <td>5</td>\n",
       "      <td>6</td>\n",
       "      <td>3</td>\n",
       "      <td>2020-05-06</td>\n",
       "      <td>NK</td>\n",
       "      <td>N926NK</td>\n",
       "      <td>ACY</td>\n",
       "      <td>MCO</td>\n",
       "      <td>...</td>\n",
       "      <td>0.0</td>\n",
       "      <td>0.0</td>\n",
       "      <td>124.0</td>\n",
       "      <td>852.0</td>\n",
       "      <td>NaN</td>\n",
       "      <td>NaN</td>\n",
       "      <td>NaN</td>\n",
       "      <td>NaN</td>\n",
       "      <td>NaN</td>\n",
       "      <td>NaN</td>\n",
       "    </tr>\n",
       "    <tr>\n",
       "      <th>3</th>\n",
       "      <td>2020</td>\n",
       "      <td>2</td>\n",
       "      <td>5</td>\n",
       "      <td>8</td>\n",
       "      <td>5</td>\n",
       "      <td>2020-05-08</td>\n",
       "      <td>NK</td>\n",
       "      <td>N926NK</td>\n",
       "      <td>ACY</td>\n",
       "      <td>MCO</td>\n",
       "      <td>...</td>\n",
       "      <td>0.0</td>\n",
       "      <td>0.0</td>\n",
       "      <td>121.0</td>\n",
       "      <td>852.0</td>\n",
       "      <td>NaN</td>\n",
       "      <td>NaN</td>\n",
       "      <td>NaN</td>\n",
       "      <td>NaN</td>\n",
       "      <td>NaN</td>\n",
       "      <td>NaN</td>\n",
       "    </tr>\n",
       "    <tr>\n",
       "      <th>4</th>\n",
       "      <td>2020</td>\n",
       "      <td>2</td>\n",
       "      <td>5</td>\n",
       "      <td>11</td>\n",
       "      <td>1</td>\n",
       "      <td>2020-05-11</td>\n",
       "      <td>NK</td>\n",
       "      <td>N607NK</td>\n",
       "      <td>ACY</td>\n",
       "      <td>MCO</td>\n",
       "      <td>...</td>\n",
       "      <td>0.0</td>\n",
       "      <td>0.0</td>\n",
       "      <td>125.0</td>\n",
       "      <td>852.0</td>\n",
       "      <td>NaN</td>\n",
       "      <td>NaN</td>\n",
       "      <td>NaN</td>\n",
       "      <td>NaN</td>\n",
       "      <td>NaN</td>\n",
       "      <td>NaN</td>\n",
       "    </tr>\n",
       "  </tbody>\n",
       "</table>\n",
       "<p>5 rows × 32 columns</p>\n",
       "</div>"
      ],
      "text/plain": [
       "   YEAR  QUARTER  MONTH  DAY_OF_MONTH  DAY_OF_WEEK     FL_DATE  \\\n",
       "0  2020        2      5             1            5  2020-05-01   \n",
       "1  2020        2      5             4            1  2020-05-04   \n",
       "2  2020        2      5             6            3  2020-05-06   \n",
       "3  2020        2      5             8            5  2020-05-08   \n",
       "4  2020        2      5            11            1  2020-05-11   \n",
       "\n",
       "  OP_UNIQUE_CARRIER TAIL_NUM ORIGIN DEST  ...  CANCELLED  DIVERTED  AIR_TIME  \\\n",
       "0                NK   N629NK    ACY  MCO  ...        0.0       0.0     125.0   \n",
       "1                NK   N926NK    ACY  MCO  ...        0.0       0.0     118.0   \n",
       "2                NK   N926NK    ACY  MCO  ...        0.0       0.0     124.0   \n",
       "3                NK   N926NK    ACY  MCO  ...        0.0       0.0     121.0   \n",
       "4                NK   N607NK    ACY  MCO  ...        0.0       0.0     125.0   \n",
       "\n",
       "   DISTANCE  CARRIER_DELAY  WEATHER_DELAY  NAS_DELAY  SECURITY_DELAY  \\\n",
       "0     852.0            NaN            NaN        NaN             NaN   \n",
       "1     852.0            NaN            NaN        NaN             NaN   \n",
       "2     852.0            NaN            NaN        NaN             NaN   \n",
       "3     852.0            NaN            NaN        NaN             NaN   \n",
       "4     852.0            NaN            NaN        NaN             NaN   \n",
       "\n",
       "   LATE_AIRCRAFT_DELAY  Unnamed: 31  \n",
       "0                  NaN          NaN  \n",
       "1                  NaN          NaN  \n",
       "2                  NaN          NaN  \n",
       "3                  NaN          NaN  \n",
       "4                  NaN          NaN  \n",
       "\n",
       "[5 rows x 32 columns]"
      ]
     },
     "execution_count": 27,
     "metadata": {},
     "output_type": "execute_result"
    }
   ],
   "source": [
    "flights = pd.read_csv(\"AirlineOnTime_May2020.csv\")\n",
    "\n",
    "flights.head()"
   ]
  },
  {
   "cell_type": "code",
   "execution_count": 31,
   "id": "a6300587-f48b-40e8-bee1-65e5de87a8a4",
   "metadata": {},
   "outputs": [
    {
     "data": {
      "text/plain": [
       "1.0"
      ]
     },
     "execution_count": 31,
     "metadata": {},
     "output_type": "execute_result"
    }
   ],
   "source": [
    "flights[\"DEP_TIME\"].min()"
   ]
  },
  {
   "cell_type": "code",
   "execution_count": 32,
   "id": "d5db7d55-48d0-4815-b7e1-68d3aca73fc8",
   "metadata": {},
   "outputs": [
    {
     "data": {
      "text/plain": [
       "2400.0"
      ]
     },
     "execution_count": 32,
     "metadata": {},
     "output_type": "execute_result"
    }
   ],
   "source": [
    "flights[\"DEP_TIME\"].max()"
   ]
  },
  {
   "cell_type": "code",
   "execution_count": 33,
   "id": "76729cbb-e2f7-402b-8388-17e01a2375a2",
   "metadata": {},
   "outputs": [
    {
     "data": {
      "text/plain": [
       "1257.0"
      ]
     },
     "execution_count": 33,
     "metadata": {},
     "output_type": "execute_result"
    }
   ],
   "source": [
    "flights[\"DEP_TIME\"].median()"
   ]
  },
  {
   "cell_type": "code",
   "execution_count": 34,
   "id": "47626a8f-5827-4290-9954-de5a379eb54a",
   "metadata": {},
   "outputs": [
    {
     "data": {
      "text/plain": [
       "array([ 68082,  12560,  98050,  28516,  27465,  13126, 391627,   5101,\n",
       "       130785], dtype=int64)"
      ]
     },
     "metadata": {},
     "output_type": "display_data"
    }
   ],
   "source": [
    "counties = pd.read_csv(\"counties.csv\", index_col=0)\n",
    "\n",
    "display(counties[\"Households\"].values)"
   ]
  },
  {
   "cell_type": "code",
   "execution_count": 35,
   "id": "c2dca35f-2a7e-4dcb-837e-eddf2659a14d",
   "metadata": {},
   "outputs": [
    {
     "data": {
      "text/plain": [
       "array(['Alexandria', 'Amherst', 'Arlington', 'Augusta', 'Bedford',\n",
       "       'Botetourt', 'Fairfax', 'Falls Church', 'Prince William'],\n",
       "      dtype=object)"
      ]
     },
     "metadata": {},
     "output_type": "display_data"
    }
   ],
   "source": [
    "display(counties.index.values)"
   ]
  },
  {
   "cell_type": "code",
   "execution_count": 36,
   "id": "bbe39036-7f98-4b69-b109-49661b347704",
   "metadata": {},
   "outputs": [
    {
     "data": {
      "image/png": "[encoded data removed]",
      "text/plain": [
       "<Figure size 720x720 with 1 Axes>"
      ]
     },
     "metadata": {},
     "output_type": "display_data"
    }
   ],
   "source": [
    "fig_1 = plt.figure(1, figsize=(10,10), facecolor=\"white\")\n",
    "\n",
    "chart_1 = fig_1.add_subplot(111)\n",
    "chart_1.pie(\n",
    "    counties[\"Households\"].values,\n",
    "    labels=counties.index.values,\n",
    "    autopct=\"%1.1f%%\"\n",
    ")\n",
    "\n",
    "chart_1.axis('equal')\n",
    "\n",
    "plt.show()"
   ]
  },
  {
   "cell_type": "code",
   "execution_count": null,
   "id": "d312973b-8954-4957-8d8b-4bf54f95d944",
   "metadata": {},
   "outputs": [],
   "source": []
  }
 ],
 "metadata": {
  "kernelspec": {
   "display_name": "conda_notebooks",
   "language": "python",
   "name": "conda_notebooks"
  },
  "language_info": {
   "codemirror_mode": {
    "name": "ipython",
    "version": 3
   },
   "file_extension": ".py",
   "mimetype": "text/x-python",
   "name": "python",
   "nbconvert_exporter": "python",
   "pygments_lexer": "ipython3",
   "version": "3.9.7"
  }
 },
 "nbformat": 4,
 "nbformat_minor": 5
}
