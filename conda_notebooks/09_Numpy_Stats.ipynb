{
 "cells": [
  {
   "cell_type": "code",
   "execution_count": 12,
   "id": "39dfd3f0-965e-4353-8a7d-8e206fa71f90",
   "metadata": {},
   "outputs": [],
   "source": [
    "import math\n",
    "import statistics as stats2\n",
    "\n",
    "from matplotlib import pyplot as plt\n",
    "from matplotlib.ticker import MaxNLocator\n",
    "from scipy import stats\n",
    "import numpy as np\n",
    "\n",
    "%matplotlib inline"
   ]
  },
  {
   "cell_type": "code",
   "execution_count": 2,
   "id": "ff70f119-11ee-4228-8f91-a80f54de68b3",
   "metadata": {},
   "outputs": [
    {
     "data": {
      "text/plain": [
       "array([ 0,  1,  2,  3,  4,  5,  6,  7,  8,  9, 10, 11, 12, 13, 14, 15, 16,\n",
       "       17, 18, 19])"
      ]
     },
     "execution_count": 2,
     "metadata": {},
     "output_type": "execute_result"
    }
   ],
   "source": [
    "population = np.arange(0, 20)\n",
    "\n",
    "population"
   ]
  },
  {
   "cell_type": "code",
   "execution_count": 3,
   "id": "909c3131-5963-4143-afb3-9f7167746736",
   "metadata": {},
   "outputs": [
    {
     "data": {
      "text/plain": [
       "9.5"
      ]
     },
     "execution_count": 3,
     "metadata": {},
     "output_type": "execute_result"
    }
   ],
   "source": [
    "np.mean(population)"
   ]
  },
  {
   "cell_type": "code",
   "execution_count": 4,
   "id": "307c64b7-c615-4ef2-9bf4-6c2b41290619",
   "metadata": {},
   "outputs": [
    {
     "data": {
      "text/plain": [
       "9.5"
      ]
     },
     "execution_count": 4,
     "metadata": {},
     "output_type": "execute_result"
    }
   ],
   "source": [
    "population.mean()"
   ]
  },
  {
   "cell_type": "code",
   "execution_count": 8,
   "id": "9aad86f7-31a3-4bf6-8452-2abce46b7581",
   "metadata": {},
   "outputs": [
    {
     "name": "stdout",
     "output_type": "stream",
     "text": [
      "[18  4  5 11  9  6 10 14  0  1 16  8 15  7  2]\n",
      "8.4\n",
      "[10 15 11 13  9  2 18 14  1  0  3 19  4  6  5]\n",
      "8.666666666666666\n"
     ]
    }
   ],
   "source": [
    "sample1 = np.random.choice(population, size=15, replace=False)\n",
    "\n",
    "print(sample1)\n",
    "print(np.mean(sample1))\n",
    "\n",
    "sample2 = np.random.choice(population, size=15, replace=False)\n",
    "\n",
    "print(sample2)\n",
    "print(np.mean(sample2))"
   ]
  },
  {
   "cell_type": "code",
   "execution_count": 9,
   "id": "20477d9a-86bc-4b97-9620-041778862fb5",
   "metadata": {},
   "outputs": [
    {
     "name": "stdout",
     "output_type": "stream",
     "text": [
      "10.0\n"
     ]
    }
   ],
   "source": [
    "population = np.arange(0, 21)\n",
    "\n",
    "print(np.median(population))"
   ]
  },
  {
   "cell_type": "code",
   "execution_count": 10,
   "id": "8eb42c1e-12f5-40ab-a829-8f2323e11c0d",
   "metadata": {},
   "outputs": [
    {
     "name": "stdout",
     "output_type": "stream",
     "text": [
      "[ 6 17 14  8  1 15 13  5  0  3  7 19 10 18 12]\n",
      "10.0\n",
      "[15 12  8 19 13  5 16  0  9  7 10 11 20 14  2]\n",
      "11.0\n"
     ]
    }
   ],
   "source": [
    "sample1 = np.random.choice(population, size=15, replace=False)\n",
    "\n",
    "print(sample1)\n",
    "print(np.median(sample1))\n",
    "\n",
    "sample2 = np.random.choice(population, size=15, replace=False)\n",
    "\n",
    "print(sample2)\n",
    "print(np.median(sample2))"
   ]
  },
  {
   "cell_type": "code",
   "execution_count": 13,
   "id": "2b56460e-90fa-4d5d-af3b-9d58b90074f4",
   "metadata": {},
   "outputs": [
    {
     "name": "stdout",
     "output_type": "stream",
     "text": [
      "5\n"
     ]
    }
   ],
   "source": [
    "nums = np.array([3,5,1,7,5,2,7,1,2,2,3,5,6,5])\n",
    "print(stats2.mode(nums))"
   ]
  },
  {
   "cell_type": "code",
   "execution_count": 18,
   "id": "d581dac4-c6dc-4edf-8196-8a737612d390",
   "metadata": {},
   "outputs": [
    {
     "name": "stdout",
     "output_type": "stream",
     "text": [
      "833\n",
      "876\n",
      "1035\n"
     ]
    }
   ],
   "source": [
    "population = np.arange(0, 100)\n",
    "\n",
    "print(stats2.pvariance(population))\n",
    "\n",
    "sample1 = np.random.choice(population, size=80)\n",
    "print(stats2.variance(sample1))\n",
    "\n",
    "sample2 = np.random.choice(population, size=80)\n",
    "print(stats2.variance(sample2))"
   ]
  },
  {
   "cell_type": "code",
   "execution_count": 19,
   "id": "ba31675b-46bc-4c28-9b5b-67fbe0048960",
   "metadata": {},
   "outputs": [
    {
     "name": "stdout",
     "output_type": "stream",
     "text": [
      "28.861739379323623\n",
      "27.784887978899608\n",
      "26.40075756488817\n"
     ]
    }
   ],
   "source": [
    "population = np.arange(0, 100)\n",
    "\n",
    "print(stats2.pstdev(population))\n",
    "\n",
    "sample1 = np.random.choice(population, size=80)\n",
    "print(stats2.stdev(sample1))\n",
    "\n",
    "sample2 = np.random.choice(population, size=80)\n",
    "print(stats2.stdev(sample2))"
   ]
  },
  {
   "cell_type": "code",
   "execution_count": 21,
   "id": "4a1358cd-c4e7-492f-a2ec-faec4a6a34e8",
   "metadata": {},
   "outputs": [
    {
     "name": "stdout",
     "output_type": "stream",
     "text": [
      "20.0\n",
      "40.0\n"
     ]
    }
   ],
   "source": [
    "nums = np.array([10,20,30,40,50])\n",
    "\n",
    "print(np.percentile(nums, 25))\n",
    "\n",
    "print(np.percentile(nums, 75))"
   ]
  },
  {
   "cell_type": "code",
   "execution_count": 22,
   "id": "d57d84e6-93a1-468c-afc6-e7c03a089366",
   "metadata": {},
   "outputs": [
    {
     "name": "stdout",
     "output_type": "stream",
     "text": [
      "16.0\n"
     ]
    }
   ],
   "source": [
    "print(np.percentile(nums, 15))"
   ]
  },
  {
   "cell_type": "code",
   "execution_count": 23,
   "id": "d18cd8a9-f60a-417d-a6c6-961c407e6fe4",
   "metadata": {},
   "outputs": [
    {
     "name": "stdout",
     "output_type": "stream",
     "text": [
      "36.0\n"
     ]
    }
   ],
   "source": [
    "print(np.percentile(nums, 65))"
   ]
  },
  {
   "cell_type": "code",
   "execution_count": 26,
   "id": "34341eec-53b1-4235-96dc-1b229263c46d",
   "metadata": {},
   "outputs": [
    {
     "name": "stdout",
     "output_type": "stream",
     "text": [
      "-0.5563593022672454\n"
     ]
    },
    {
     "data": {
      "image/png": "[encoded data removed]",
      "text/plain": [
       "<Figure size 432x288 with 1 Axes>"
      ]
     },
     "metadata": {
      "needs_background": "light"
     },
     "output_type": "display_data"
    }
   ],
   "source": [
    "nums = np.concatenate([\n",
    "    np.random.randint(\n",
    "        (x-1)*10, x*10, size=x*100)\n",
    "    for x in np.arange(10, 0, -1)\n",
    "])\n",
    "\n",
    "print(stats.skew(nums))\n",
    "\n",
    "plt.hist(nums, bins=100)\n",
    "plt.show()"
   ]
  },
  {
   "cell_type": "code",
   "execution_count": 27,
   "id": "5aa1cf8e-33b7-482d-abca-89ed827b54b4",
   "metadata": {},
   "outputs": [
    {
     "name": "stdout",
     "output_type": "stream",
     "text": [
      "0.5674587717688663\n"
     ]
    },
    {
     "data": {
      "image/png": "[encoded data removed]",
      "text/plain": [
       "<Figure size 432x288 with 1 Axes>"
      ]
     },
     "metadata": {
      "needs_background": "light"
     },
     "output_type": "display_data"
    }
   ],
   "source": [
    "nums = np.concatenate([\n",
    "    np.random.randint(\n",
    "        x*10, (x+1)*10, size=(10-x)*100)\n",
    "    for x in np.arange(0, 10, 1)\n",
    "])\n",
    "\n",
    "print(stats.skew(nums))\n",
    "\n",
    "plt.hist(nums, bins=100)\n",
    "plt.show()"
   ]
  },
  {
   "cell_type": "code",
   "execution_count": 28,
   "id": "8912f37d-e47a-4bb9-85a8-75a2c5e813b7",
   "metadata": {},
   "outputs": [
    {
     "name": "stdout",
     "output_type": "stream",
     "text": [
      "DescribeResult(nobs=20, minmax=(0, 19), mean=9.5, variance=35.0, skewness=0.0, kurtosis=-1.206015037593985)\n"
     ]
    }
   ],
   "source": [
    "nums = np.arange(0,20)\n",
    "\n",
    "print(stats.describe(nums))"
   ]
  },
  {
   "cell_type": "code",
   "execution_count": 31,
   "id": "899d21a7-4d0e-48f7-887c-1acefeec6aed",
   "metadata": {},
   "outputs": [
    {
     "data": {
      "text/plain": [
       "array([2, 4, 2, 2, 0, 4, 3, 1, 2, 1])"
      ]
     },
     "metadata": {},
     "output_type": "display_data"
    },
    {
     "data": {
      "text/plain": [
       "array([1, 2, 3, 4, 0])"
      ]
     },
     "metadata": {},
     "output_type": "display_data"
    },
    {
     "data": {
      "text/plain": [
       "array([9, 5, 1, 9, 3, 1, 1, 9, 7, 5])"
      ]
     },
     "metadata": {},
     "output_type": "display_data"
    }
   ],
   "source": [
    "display(np.random.choice(5, 10))\n",
    "\n",
    "display(np.random.choice(5, 5, replace=False))\n",
    "\n",
    "arr = np.array([1,3,5,7,9])\n",
    "\n",
    "display(np.random.choice(arr, 10))"
   ]
  },
  {
   "cell_type": "code",
   "execution_count": 32,
   "id": "606eb2a7-9d2f-4a36-bdad-d397c981baa6",
   "metadata": {},
   "outputs": [
    {
     "data": {
      "image/png": "[encoded data removed]",
      "text/plain": [
       "<Figure size 432x288 with 1 Axes>"
      ]
     },
     "metadata": {
      "needs_background": "light"
     },
     "output_type": "display_data"
    }
   ],
   "source": [
    "first_semester = np.array([65, 67, 68, 72, 72, 80, 81, 82, 82, 91, 91, 91, 93, 94, 91, 91, 91, 93, 94, 100, 100, 100])\n",
    "second_semester = np.array([75, 77, 78, 72, 72, 70, 71, 72, 82, 91, 91, 91, 93, 94, 91, 91, 91, 93, 94, 100, 100, 100])\n",
    "\n",
    "plt.title('Scores by Semester')\n",
    "plt.xlabel('Semester')\n",
    "plt.ylabel('Scores')\n",
    "\n",
    "plt.boxplot([first_semester, second_semester], labels=[\"First\", \"Second\"])\n",
    "plt.show()"
   ]
  },
  {
   "cell_type": "code",
   "execution_count": null,
   "id": "d2d79f82-c706-4ca0-bf84-c1a16cf5ad08",
   "metadata": {},
   "outputs": [],
   "source": []
  }
 ],
 "metadata": {
  "kernelspec": {
   "display_name": "conda_notebooks",
   "language": "python",
   "name": "conda_notebooks"
  },
  "language_info": {
   "codemirror_mode": {
    "name": "ipython",
    "version": 3
   },
   "file_extension": ".py",
   "mimetype": "text/x-python",
   "name": "python",
   "nbconvert_exporter": "python",
   "pygments_lexer": "ipython3",
   "version": "3.9.7"
  }
 },
 "nbformat": 4,
 "nbformat_minor": 5
}
