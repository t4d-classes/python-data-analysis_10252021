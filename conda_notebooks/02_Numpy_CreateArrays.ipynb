{
 "cells": [
  {
   "cell_type": "code",
   "execution_count": 2,
   "id": "900bd9fd-9511-4a84-a441-992f66bfb6a9",
   "metadata": {},
   "outputs": [],
   "source": [
    "from matplotlib import pyplot as plt\n",
    "import numpy as np\n",
    "\n",
    "%matplotlib inline"
   ]
  },
  {
   "cell_type": "code",
   "execution_count": null,
   "id": "094c3dc0-4e1d-4cbf-b2c5-485493feac56",
   "metadata": {},
   "outputs": [],
   "source": [
    "nums = [1,2,3,4,5]\n",
    "\n",
    "nums_arr = np.array(nums, dtype=\"int16\")\n",
    "\n",
    "print(nums)\n",
    "print(type(nums))\n",
    "\n",
    "print(nums_arr)\n",
    "print(type(nums_arr)) # type of object that nums_arr points to\n",
    "\n",
    "# print(nums_arr.dtype) the dtype is the type of the element"
   ]
  },
  {
   "cell_type": "code",
   "execution_count": null,
   "id": "93be821e-2ce8-4c21-b739-de111ec7649a",
   "metadata": {},
   "outputs": [],
   "source": [
    "print(nums_arr.dtype)\n",
    "print(nums_arr.size)\n",
    "print(nums_arr.itemsize)\n",
    "print(nums_arr.itemsize * nums_arr.size)\n",
    "print(nums_arr.nbytes)"
   ]
  },
  {
   "cell_type": "code",
   "execution_count": null,
   "id": "f7f21a69-2bb5-4677-9b82-1b48e520aa8c",
   "metadata": {},
   "outputs": [],
   "source": [
    "nums_list = [ [ [1,2,3], [4,5,6] ] , [ [1,2,3], [4,5,6] ] ]\n",
    "\n",
    "nums_arr = np.array(nums_list, dtype=\"int8\")\n",
    "\n",
    "print(nums_arr)\n",
    "print(nums_arr.dtype)\n",
    "print(nums_arr.size)\n",
    "print(nums_arr.itemsize)\n",
    "print(nums_arr.itemsize * nums_arr.size)\n",
    "print(nums_arr.nbytes)\n",
    "print(nums_arr.ndim)\n",
    "print(nums_arr.shape"
   ]
  },
  {
   "cell_type": "code",
   "execution_count": null,
   "id": "03f31c38-6ac1-41b3-a6d1-b97b21644561",
   "metadata": {},
   "outputs": [],
   "source": [
    "nums = [1.,2.,3.,4.,5.]\n",
    "\n",
    "nums_arr = np.array(nums)\n",
    "\n",
    "print(nums_arr.dtype)\n",
    "print(nums_arr.size)\n",
    "print(nums_arr.itemsize)\n",
    "print(nums_arr.itemsize * nums_arr.size)\n",
    "print(nums_arr.nbytes)"
   ]
  },
  {
   "cell_type": "code",
   "execution_count": null,
   "id": "bf67fc1a-4a13-40c5-b90b-f7873049dbe7",
   "metadata": {},
   "outputs": [],
   "source": [
    "nums_list = list(range(10))\n",
    "\n",
    "print(nums_list)"
   ]
  },
  {
   "cell_type": "code",
   "execution_count": null,
   "id": "59a19296-a05a-4de7-9014-e5aba0113008",
   "metadata": {},
   "outputs": [],
   "source": [
    "nums_arr = np.arange(10)\n",
    "\n",
    "print(nums_arr.dtype)\n",
    "print(nums_arr)"
   ]
  },
  {
   "cell_type": "code",
   "execution_count": null,
   "id": "cc67505c-25d8-4ef7-85ee-7e8071c1cf31",
   "metadata": {},
   "outputs": [],
   "source": [
    "nums_arr = np.arange(10, 20)\n",
    "\n",
    "print(nums_arr)"
   ]
  },
  {
   "cell_type": "code",
   "execution_count": null,
   "id": "7aa237e4-f902-450b-b230-6c3b3b535609",
   "metadata": {},
   "outputs": [],
   "source": [
    "nums_arr = np.arange(10, 20, step=2)\n",
    "\n",
    "print(nums_arr)"
   ]
  },
  {
   "cell_type": "code",
   "execution_count": null,
   "id": "4ba0d2e0-de40-4b80-a2fb-bef77e264d48",
   "metadata": {},
   "outputs": [],
   "source": [
    "nums_arr = np.arange(0, 100, step=10)\n",
    "\n",
    "print(nums_arr)\n",
    "print(nums_arr.dtype)"
   ]
  },
  {
   "cell_type": "code",
   "execution_count": null,
   "id": "ba2710c9-93a9-40c5-bd8f-7876c9bea008",
   "metadata": {},
   "outputs": [],
   "source": [
    "nums_arr = np.arange(0, 100, step=10, dtype=\"int8\")\n",
    "\n",
    "print(nums_arr)\n",
    "print(nums_arr.dtype)"
   ]
  },
  {
   "cell_type": "code",
   "execution_count": null,
   "id": "f34f5bef-e109-4d0b-bf21-42c5b6bff124",
   "metadata": {},
   "outputs": [],
   "source": [
    "nums_arr = np.arange(0, 100, step=10, dtype=np.int8)\n",
    "\n",
    "print(nums_arr)\n",
    "print(nums_arr.dtype)"
   ]
  },
  {
   "cell_type": "code",
   "execution_count": null,
   "id": "95d95de2-869e-4f57-82cf-9d71ff2dc999",
   "metadata": {},
   "outputs": [],
   "source": [
    "# with linspace, the end value is INCLUDED\n",
    "nums_arr = np.linspace(0, 10, num=20)\n",
    "\n",
    "print(nums_arr)\n",
    "print(nums_arr.size)"
   ]
  },
  {
   "cell_type": "code",
   "execution_count": null,
   "id": "5231dffe-41fa-41d2-8488-1001212681b7",
   "metadata": {},
   "outputs": [],
   "source": [
    "x = np.ones(5)\n",
    "\n",
    "# print(x)\n",
    "# display(x)\n",
    "print(x.dtype)\n",
    "x"
   ]
  },
  {
   "cell_type": "code",
   "execution_count": null,
   "id": "055a5896-1b4a-49f2-b1e9-168dd37d66c2",
   "metadata": {},
   "outputs": [],
   "source": [
    "x = np.ones(5, dtype=np.int8)\n",
    "\n",
    "# print(x)\n",
    "# display(x)\n",
    "print(x.dtype)\n",
    "x"
   ]
  },
  {
   "cell_type": "code",
   "execution_count": null,
   "id": "7bc3c52b-19b2-4e31-a7d5-5f91d7122042",
   "metadata": {},
   "outputs": [],
   "source": [
    "x = np.ones( (5,), dtype=np.int8)\n",
    "\n",
    "print(x.dtype)\n",
    "print(x.ndim)\n",
    "print(x.shape)\n",
    "x"
   ]
  },
  {
   "cell_type": "code",
   "execution_count": null,
   "id": "3b7bc16e-ad97-4c20-b641-34dc5594d239",
   "metadata": {},
   "outputs": [],
   "source": [
    "x = np.ones( (5,5), dtype=np.int8)\n",
    "\n",
    "print(x.dtype)\n",
    "print(x.ndim)\n",
    "print(x.shape)\n",
    "x"
   ]
  },
  {
   "cell_type": "code",
   "execution_count": null,
   "id": "cdbbecca-d73b-485e-9b0e-c0a7cbc28ce7",
   "metadata": {},
   "outputs": [],
   "source": [
    "x = np.zeros(5)\n",
    "\n",
    "# print(x)\n",
    "# display(x)\n",
    "print(x.dtype)\n",
    "x"
   ]
  },
  {
   "cell_type": "code",
   "execution_count": null,
   "id": "c2af5e48-79a8-4b50-b05e-ac5b397a0cc9",
   "metadata": {},
   "outputs": [],
   "source": [
    "x = np.zeros(5, dtype=np.int8)\n",
    "\n",
    "# print(x)\n",
    "# display(x)\n",
    "print(x.dtype)\n",
    "x"
   ]
  },
  {
   "cell_type": "code",
   "execution_count": null,
   "id": "a29be59d-2ab7-45f6-b595-69b25757b8ac",
   "metadata": {},
   "outputs": [],
   "source": [
    "x = np.zeros( (5,5), dtype=np.int8)\n",
    "\n",
    "print(x.dtype)\n",
    "print(x.ndim)\n",
    "print(x.shape)\n",
    "x"
   ]
  },
  {
   "cell_type": "code",
   "execution_count": null,
   "id": "219de43e-0e58-4539-bc42-b804e93c0cd3",
   "metadata": {},
   "outputs": [],
   "source": [
    "x = np.full( (5,5), 7, dtype=np.int8)\n",
    "\n",
    "print(x.dtype)\n",
    "print(x.ndim)\n",
    "print(x.shape)\n",
    "x"
   ]
  },
  {
   "cell_type": "code",
   "execution_count": null,
   "id": "164a4f3c-156d-4b5b-9625-26c886f19ff1",
   "metadata": {},
   "outputs": [],
   "source": [
    "some_arr = np.zeros( (3,3), dtype=np.int64)\n",
    "\n",
    "some_arr"
   ]
  },
  {
   "cell_type": "code",
   "execution_count": null,
   "id": "a9f92045-3068-4b85-a302-6470b65eb032",
   "metadata": {},
   "outputs": [],
   "source": [
    "new_arr = np.full_like(some_arr, 7)\n",
    "\n",
    "new_arr"
   ]
  },
  {
   "cell_type": "markdown",
   "id": "7ba95fc1-5815-409f-9107-6bb4203f496c",
   "metadata": {},
   "source": [
    "## Create Arrays from Random Numbers"
   ]
  },
  {
   "cell_type": "code",
   "execution_count": null,
   "id": "24b45d41-8427-4f01-910b-9505604ff914",
   "metadata": {},
   "outputs": [],
   "source": [
    "rand_arr = np.random.rand(100)\n",
    "\n",
    "print(rand_arr.dtype)\n",
    "rand_arr"
   ]
  },
  {
   "cell_type": "code",
   "execution_count": null,
   "id": "d3905e6b-e8c0-4d51-8893-dbe61b6fd236",
   "metadata": {},
   "outputs": [],
   "source": [
    "rand_arr = np.random.randint(0, 100, size=50)\n",
    "\n",
    "rand_arr"
   ]
  },
  {
   "cell_type": "code",
   "execution_count": null,
   "id": "20461459-b6cc-427d-a7a7-84109bffb128",
   "metadata": {},
   "outputs": [],
   "source": [
    "rand_arr = np.random.normal(size=20)\n",
    "\n",
    "rand_arr"
   ]
  },
  {
   "cell_type": "code",
   "execution_count": 4,
   "id": "b8c50907-6d3c-47a4-80fa-11f0bb343b2c",
   "metadata": {},
   "outputs": [
    {
     "data": {
      "text/plain": [
       "[<matplotlib.lines.Line2D at 0x19b64037580>]"
      ]
     },
     "execution_count": 4,
     "metadata": {},
     "output_type": "execute_result"
    },
    {
     "data": {
      "image/png": "[encoded data removed]",
      "text/plain": [
       "<Figure size 432x288 with 1 Axes>"
      ]
     },
     "metadata": {
      "needs_background": "light"
     },
     "output_type": "display_data"
    }
   ],
   "source": [
    "x = np.arange(1000000)\n",
    "y = np.sort(np.random.normal(size=1000000))\n",
    "\n",
    "plt.plot(x, y)"
   ]
  },
  {
   "cell_type": "code",
   "execution_count": 5,
   "id": "97b69697-15e1-4a49-b08a-9b7d514bb36b",
   "metadata": {},
   "outputs": [
    {
     "data": {
      "text/plain": [
       "(array([1., 0., 0., ..., 0., 0., 1.]),\n",
       " array([-4.67140809, -4.67045524, -4.66950239, ...,  4.85516611,\n",
       "         4.85611895,  4.8570718 ]),\n",
       " <BarContainer object of 10000 artists>)"
      ]
     },
     "execution_count": 5,
     "metadata": {},
     "output_type": "execute_result"
    },
    {
     "data": {
      "image/png": "[encoded data removed]",
      "text/plain": [
       "<Figure size 432x288 with 1 Axes>"
      ]
     },
     "metadata": {
      "needs_background": "light"
     },
     "output_type": "display_data"
    }
   ],
   "source": [
    "plt.hist(y, 10000)"
   ]
  },
  {
   "cell_type": "code",
   "execution_count": null,
   "id": "9926a9ee-eb04-442b-b906-7ab8df6037c4",
   "metadata": {},
   "outputs": [],
   "source": []
  }
 ],
 "metadata": {
  "kernelspec": {
   "display_name": "conda_notebooks",
   "language": "python",
   "name": "conda_notebooks"
  },
  "language_info": {
   "codemirror_mode": {
    "name": "ipython",
    "version": 3
   },
   "file_extension": ".py",
   "mimetype": "text/x-python",
   "name": "python",
   "nbconvert_exporter": "python",
   "pygments_lexer": "ipython3",
   "version": "3.9.7"
  }
 },
 "nbformat": 4,
 "nbformat_minor": 5
}
