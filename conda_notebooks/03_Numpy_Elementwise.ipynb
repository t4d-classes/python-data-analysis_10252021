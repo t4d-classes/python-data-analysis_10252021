{
 "cells": [
  {
   "cell_type": "code",
   "execution_count": 1,
   "id": "072ad646-3ea7-4140-a30d-f194020c5438",
   "metadata": {},
   "outputs": [],
   "source": [
    "import numpy as np"
   ]
  },
  {
   "cell_type": "code",
   "execution_count": 2,
   "id": "b6c95182-3ddd-4b95-ad2a-87149d1a2593",
   "metadata": {},
   "outputs": [
    {
     "data": {
      "text/plain": [
       "array([0, 1, 2, 3, 4, 5, 6, 7, 8, 9])"
      ]
     },
     "execution_count": 2,
     "metadata": {},
     "output_type": "execute_result"
    }
   ],
   "source": [
    "nums = np.arange(10)\n",
    "\n",
    "nums"
   ]
  },
  {
   "cell_type": "code",
   "execution_count": 15,
   "id": "1080d051-dc77-40c1-9b44-20c17b237f0d",
   "metadata": {},
   "outputs": [
    {
     "name": "stdout",
     "output_type": "stream",
     "text": [
      "[15 16 17 18 19 20 21 22 23 24]\n",
      "[20 21 22 23 24 25 26 27 28 29]\n"
     ]
    }
   ],
   "source": [
    "new_nums = nums + 5\n",
    "\n",
    "print(nums)\n",
    "print(new_nums)"
   ]
  },
  {
   "cell_type": "code",
   "execution_count": 16,
   "id": "7a983a37-0be2-413d-94aa-934167657df1",
   "metadata": {},
   "outputs": [
    {
     "name": "stdout",
     "output_type": "stream",
     "text": [
      "[20 21 22 23 24 25 26 27 28 29]\n",
      "[20 21 22 23 24 25 26 27 28 29]\n",
      "2710514890480\n",
      "2710514891536\n",
      "False\n",
      "False\n"
     ]
    }
   ],
   "source": [
    "old_nums = nums\n",
    "new_nums = nums + 5\n",
    "nums = nums + 5\n",
    "\n",
    "print(nums)\n",
    "print(new_nums)\n",
    "\n",
    "print(id(nums))\n",
    "print(id(new_nums))\n",
    "print(id(nums) == id(new_nums))\n",
    "print(id(old_nums) == id(nums))"
   ]
  },
  {
   "cell_type": "code",
   "execution_count": 14,
   "id": "04ec590a-c5f9-4a1f-a618-fb17cb3fb42a",
   "metadata": {},
   "outputs": [
    {
     "name": "stdout",
     "output_type": "stream",
     "text": [
      "True\n",
      "[10 11 12 13 14 15 16 17 18 19]\n",
      "True\n",
      "[15 16 17 18 19 20 21 22 23 24]\n"
     ]
    }
   ],
   "source": [
    "old_nums = nums\n",
    "print(id(old_nums) == id(nums))\n",
    "print(nums)\n",
    "\n",
    "nums += 5\n",
    "print(id(old_nums) == id(nums))\n",
    "print(nums)"
   ]
  },
  {
   "cell_type": "code",
   "execution_count": 17,
   "id": "647d6eae-d267-4a01-adf9-dbaf25473d56",
   "metadata": {},
   "outputs": [
    {
     "data": {
      "text/plain": [
       "array([15, 16, 17, 18, 19, 20, 21, 22, 23, 24])"
      ]
     },
     "execution_count": 17,
     "metadata": {},
     "output_type": "execute_result"
    }
   ],
   "source": [
    "new_nums = nums - 5\n",
    "\n",
    "new_nums"
   ]
  },
  {
   "cell_type": "code",
   "execution_count": 18,
   "id": "817d44cd-9dfa-47f6-8815-03caa22466ab",
   "metadata": {},
   "outputs": [
    {
     "data": {
      "text/plain": [
       "array([100, 105, 110, 115, 120, 125, 130, 135, 140, 145])"
      ]
     },
     "execution_count": 18,
     "metadata": {},
     "output_type": "execute_result"
    }
   ],
   "source": [
    "new_nums = nums * 5\n",
    "\n",
    "new_nums"
   ]
  },
  {
   "cell_type": "code",
   "execution_count": 19,
   "id": "e8be365b-88ab-4350-bf95-caf4b2f04930",
   "metadata": {},
   "outputs": [
    {
     "data": {
      "text/plain": [
       "array([4. , 4.2, 4.4, 4.6, 4.8, 5. , 5.2, 5.4, 5.6, 5.8])"
      ]
     },
     "execution_count": 19,
     "metadata": {},
     "output_type": "execute_result"
    }
   ],
   "source": [
    "new_nums = nums / 5\n",
    "\n",
    "new_nums"
   ]
  },
  {
   "cell_type": "code",
   "execution_count": null,
   "id": "6a766086-80e3-4ff7-8078-d08a6be44535",
   "metadata": {},
   "outputs": [],
   "source": []
  }
 ],
 "metadata": {
  "kernelspec": {
   "display_name": "conda_notebooks",
   "language": "python",
   "name": "conda_notebooks"
  },
  "language_info": {
   "codemirror_mode": {
    "name": "ipython",
    "version": 3
   },
   "file_extension": ".py",
   "mimetype": "text/x-python",
   "name": "python",
   "nbconvert_exporter": "python",
   "pygments_lexer": "ipython3",
   "version": "3.9.7"
  }
 },
 "nbformat": 4,
 "nbformat_minor": 5
}
