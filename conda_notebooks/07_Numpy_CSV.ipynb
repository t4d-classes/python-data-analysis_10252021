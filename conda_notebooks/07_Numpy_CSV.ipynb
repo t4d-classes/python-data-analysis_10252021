{
 "cells": [
  {
   "cell_type": "code",
   "execution_count": 1,
   "id": "606251ea-9b69-44f9-a8bf-0b798ada4553",
   "metadata": {},
   "outputs": [],
   "source": [
    "import csv\n",
    "\n",
    "from matplotlib import pyplot as plt\n",
    "from matplotlib.ticker import MaxNLocator \n",
    "import numpy as np\n",
    "\n",
    "%matplotlib inline"
   ]
  },
  {
   "cell_type": "markdown",
   "id": "6714d4ba-c334-4fea-a16b-95c5ad5bfde7",
   "metadata": {},
   "source": [
    "## CSV - Python Standard Library"
   ]
  },
  {
   "cell_type": "markdown",
   "id": "2a87305a-984f-4035-94a6-ead098decfb1",
   "metadata": {},
   "source": [
    "### CSV File with Headers"
   ]
  },
  {
   "cell_type": "code",
   "execution_count": 10,
   "id": "484e4d1a-8e72-47c1-b857-b577231d399a",
   "metadata": {},
   "outputs": [
    {
     "data": {
      "text/plain": [
       "[['1', '2', '3'], ['4', '5', '6']]"
      ]
     },
     "metadata": {},
     "output_type": "display_data"
    },
    {
     "data": {
      "text/plain": [
       "array([[1, 2, 3],\n",
       "       [4, 5, 6]], dtype=int8)"
      ]
     },
     "execution_count": 10,
     "metadata": {},
     "output_type": "execute_result"
    }
   ],
   "source": [
    "data = []\n",
    "\n",
    "with open(\"data_with_headers.csv\") as csv_file:\n",
    "    \n",
    "    csv_reader = csv.DictReader(csv_file)\n",
    "    \n",
    "    for row in csv_reader:\n",
    "        # data.append([ int(v) for v in row.values() ])\n",
    "        data.append(list(row.values()))\n",
    "        \n",
    "display(data)\n",
    "np.array(data, dtype=np.int8)"
   ]
  },
  {
   "cell_type": "markdown",
   "id": "b639bf69-9a04-4130-997c-7c30ed76c70e",
   "metadata": {},
   "source": [
    "### CSV File with No Headers"
   ]
  },
  {
   "cell_type": "code",
   "execution_count": 7,
   "id": "725d20f0-4d50-4042-adc0-07a52a1b462d",
   "metadata": {},
   "outputs": [
    {
     "data": {
      "text/plain": [
       "[['1', '2', '3'], ['4', '5', '6']]"
      ]
     },
     "metadata": {},
     "output_type": "display_data"
    },
    {
     "data": {
      "text/plain": [
       "array([[1, 2, 3],\n",
       "       [4, 5, 6]], dtype=int8)"
      ]
     },
     "execution_count": 7,
     "metadata": {},
     "output_type": "execute_result"
    }
   ],
   "source": [
    "data = []\n",
    "\n",
    "with open(\"data_without_headers.csv\") as csv_file:\n",
    "    \n",
    "    csv_reader = csv.reader(csv_file)\n",
    "    \n",
    "    for row in csv_reader:\n",
    "        # data.append([ int(v) for v in row ])\n",
    "        data.append(row)\n",
    "        \n",
    "display(data)\n",
    "np.array(data, dtype=np.int8)"
   ]
  },
  {
   "cell_type": "markdown",
   "id": "0360a70e-83fb-49a3-9e1f-ef6cc1224cef",
   "metadata": {},
   "source": [
    "## CSV - Numpy"
   ]
  },
  {
   "cell_type": "code",
   "execution_count": 11,
   "id": "dd711b96-a430-4c1e-a1cb-a70fd99f852a",
   "metadata": {},
   "outputs": [
    {
     "data": {
      "text/plain": [
       "array([[1, 2, 3],\n",
       "       [4, 5, 6]], dtype=int8)"
      ]
     },
     "execution_count": 11,
     "metadata": {},
     "output_type": "execute_result"
    }
   ],
   "source": [
    "data = np.loadtxt(\"data_with_headers.csv\", delimiter=\",\", skiprows=1, dtype=np.int8)\n",
    "\n",
    "data"
   ]
  },
  {
   "cell_type": "markdown",
   "id": "4f5f4192-02e4-4539-9175-9438d9a75240",
   "metadata": {},
   "source": [
    "## Max, Min, and Sum"
   ]
  },
  {
   "cell_type": "code",
   "execution_count": 12,
   "id": "9d51ca3c-65d5-489d-a5c8-c7f232c43e6f",
   "metadata": {},
   "outputs": [
    {
     "data": {
      "text/plain": [
       "array([[ 1,  2,  3,  4,  5],\n",
       "       [ 6,  7, 99,  9, 10],\n",
       "       [11, 12, 13, 14, 15]], dtype=int8)"
      ]
     },
     "execution_count": 12,
     "metadata": {},
     "output_type": "execute_result"
    }
   ],
   "source": [
    "data = np.loadtxt(\"data.csv\", delimiter=\",\", skiprows=1, dtype=np.int8)\n",
    "\n",
    "data"
   ]
  },
  {
   "cell_type": "code",
   "execution_count": 13,
   "id": "8c4ecef0-697e-49cc-add9-2092f5c22ac7",
   "metadata": {},
   "outputs": [
    {
     "name": "stdout",
     "output_type": "stream",
     "text": [
      "99\n",
      "1\n"
     ]
    }
   ],
   "source": [
    "print(np.max(data))\n",
    "print(np.min(data))"
   ]
  },
  {
   "cell_type": "code",
   "execution_count": 14,
   "id": "5839d191-187a-473e-8ce2-daac2d95f250",
   "metadata": {},
   "outputs": [
    {
     "name": "stdout",
     "output_type": "stream",
     "text": [
      "[11 12 99 14 15]\n",
      "[1 2 3 4 5]\n"
     ]
    }
   ],
   "source": [
    "print(np.max(data, axis=0))\n",
    "print(np.min(data, axis=0))"
   ]
  },
  {
   "cell_type": "code",
   "execution_count": 15,
   "id": "79778110-74e9-4532-ac67-716d7c194c0b",
   "metadata": {},
   "outputs": [
    {
     "name": "stdout",
     "output_type": "stream",
     "text": [
      "[ 5 99 15]\n",
      "[ 1  6 11]\n"
     ]
    }
   ],
   "source": [
    "print(np.max(data, axis=1))\n",
    "print(np.min(data, axis=1))"
   ]
  },
  {
   "cell_type": "code",
   "execution_count": 16,
   "id": "e1b0af4a-5112-4a18-bcf9-abe0f81b1b18",
   "metadata": {},
   "outputs": [
    {
     "name": "stdout",
     "output_type": "stream",
     "text": [
      "99\n",
      "[11 12 99 14 15]\n",
      "[ 5 99 15]\n"
     ]
    }
   ],
   "source": [
    "print(data.max())\n",
    "print(data.max(axis=0))\n",
    "print(data.max(axis=1))"
   ]
  },
  {
   "cell_type": "code",
   "execution_count": 18,
   "id": "6a1c0e3a-7fc1-4e2d-a8f8-1280cd956695",
   "metadata": {},
   "outputs": [
    {
     "name": "stdout",
     "output_type": "stream",
     "text": [
      "1\n",
      "[1 2 3 4 5]\n",
      "[ 1  6 11]\n"
     ]
    }
   ],
   "source": [
    "print(data.min())\n",
    "print(data.min(axis=0))\n",
    "print(data.min(axis=1))"
   ]
  },
  {
   "cell_type": "code",
   "execution_count": 20,
   "id": "d36d4b09-78b9-4c1a-9b8b-2cd385072104",
   "metadata": {},
   "outputs": [
    {
     "name": "stdout",
     "output_type": "stream",
     "text": [
      "211\n",
      "[ 18  21 115  27  30]\n",
      "[ 15 131  65]\n"
     ]
    }
   ],
   "source": [
    "print(np.sum(data))\n",
    "print(np.sum(data, axis=0))\n",
    "print(np.sum(data, axis=1))"
   ]
  },
  {
   "cell_type": "code",
   "execution_count": 21,
   "id": "2a75995d-bbf5-403c-8ddc-eb6f231d8a8d",
   "metadata": {},
   "outputs": [
    {
     "name": "stdout",
     "output_type": "stream",
     "text": [
      "211\n",
      "[ 18  21 115  27  30]\n",
      "[ 15 131  65]\n"
     ]
    }
   ],
   "source": [
    "print(data.sum())\n",
    "print(data.sum(axis=0))\n",
    "print(data.sum(axis=1))"
   ]
  },
  {
   "cell_type": "code",
   "execution_count": 22,
   "id": "b9398bcf-d17a-4171-835c-9a7519c9cf91",
   "metadata": {},
   "outputs": [
    {
     "data": {
      "text/plain": [
       "array([ 18,  21, 115,  27,  30], dtype=int8)"
      ]
     },
     "execution_count": 22,
     "metadata": {},
     "output_type": "execute_result"
    }
   ],
   "source": [
    "sum(data) # data.sum(axis=0)"
   ]
  },
  {
   "cell_type": "markdown",
   "id": "6358e1ee-459a-44da-be00-e53aa2a9df9f",
   "metadata": {},
   "source": [
    "## Row and Column Stacking"
   ]
  },
  {
   "cell_type": "code",
   "execution_count": 23,
   "id": "911ede05-281d-48aa-8d07-64cd4623e511",
   "metadata": {},
   "outputs": [
    {
     "data": {
      "text/plain": [
       "array([[ 1,  2,  3,  4,  5],\n",
       "       [ 6,  7, 99,  9, 10],\n",
       "       [11, 12, 13, 14, 15]], dtype=int8)"
      ]
     },
     "execution_count": 23,
     "metadata": {},
     "output_type": "execute_result"
    }
   ],
   "source": [
    "data = np.loadtxt(\"data.csv\", delimiter=\",\", skiprows=1, dtype=np.int8)\n",
    "\n",
    "data"
   ]
  },
  {
   "cell_type": "code",
   "execution_count": 26,
   "id": "36c09eb0-bc8a-4136-809e-fff5cacf88f9",
   "metadata": {},
   "outputs": [
    {
     "data": {
      "text/plain": [
       "array([[  1,   2,   3,   4,   5,  15],\n",
       "       [  6,   7,  99,   9,  10, 131],\n",
       "       [ 11,  12,  13,  14,  15,  65]])"
      ]
     },
     "execution_count": 26,
     "metadata": {},
     "output_type": "execute_result"
    }
   ],
   "source": [
    "row_totals = data.sum(axis=1)\n",
    "\n",
    "data = np.column_stack([ data, row_totals ])\n",
    "\n",
    "data"
   ]
  },
  {
   "cell_type": "code",
   "execution_count": 29,
   "id": "f8429c42-ea3c-4237-9698-ffab682c12d9",
   "metadata": {},
   "outputs": [
    {
     "data": {
      "text/plain": [
       "array([[  1,   2,   3,   4,   5,  15],\n",
       "       [  6,   7,  99,   9,  10, 131],\n",
       "       [ 11,  12,  13,  14,  15,  65],\n",
       "       [ 18,  21, 115,  27,  30, 211]])"
      ]
     },
     "execution_count": 29,
     "metadata": {},
     "output_type": "execute_result"
    }
   ],
   "source": [
    "col_totals = data.sum(axis=0)\n",
    "\n",
    "col_totals\n",
    "\n",
    "data = np.row_stack([ data, col_totals ])\n",
    "\n",
    "data"
   ]
  },
  {
   "cell_type": "markdown",
   "id": "7b7340a9-bc26-439f-a9d7-e328b698b2b8",
   "metadata": {},
   "source": [
    "## Matplotlib Multiple Plots and Chart Customizing"
   ]
  },
  {
   "cell_type": "code",
   "execution_count": 36,
   "id": "5c325bbd-8a34-4d64-ae7c-edb27e19d594",
   "metadata": {},
   "outputs": [
    {
     "data": {
      "image/png": "[encoded data removed]",
      "text/plain": [
       "<Figure size 432x288 with 1 Axes>"
      ]
     },
     "metadata": {
      "needs_background": "light"
     },
     "output_type": "display_data"
    }
   ],
   "source": [
    "car_sales = np.array([\n",
    "    [1,4], [2,3], [3,1], [4,12]  # [sales_qtr, sales]\n",
    "])\n",
    "\n",
    "# display(car_sales)\n",
    "\n",
    "boat_sales = np.array([\n",
    "    [1,3], [2,9], [3,8], [4,3]  # [sales_qtr, sales]\n",
    "])\n",
    "\n",
    "ax = plt.figure().gca()\n",
    "ax.xaxis.set_major_locator(MaxNLocator(integer=True))\n",
    "ax.yaxis.set_major_locator(MaxNLocator(integer=True))\n",
    "\n",
    "plt.plot(car_sales[:, 0], car_sales[:, 1], label=\"Cars\", color=\"green\", linestyle=\"dashed\")\n",
    "plt.plot(boat_sales[:, 0], boat_sales[:, 1], label=\"Boats\", color=\"blue\", linestyle=\"dotted\")\n",
    "\n",
    "plt.title(\"Sales by Unit\")\n",
    "plt.xlabel(\"Quarter\")\n",
    "plt.ylabel(\"Units\")\n",
    "\n",
    "plt.legend(loc=\"upper right\")\n",
    "\n",
    "plt.show()"
   ]
  },
  {
   "cell_type": "code",
   "execution_count": null,
   "id": "9ee8c720-5ab5-4702-a783-51a764883555",
   "metadata": {},
   "outputs": [],
   "source": []
  }
 ],
 "metadata": {
  "kernelspec": {
   "display_name": "conda_notebooks",
   "language": "python",
   "name": "conda_notebooks"
  },
  "language_info": {
   "codemirror_mode": {
    "name": "ipython",
    "version": 3
   },
   "file_extension": ".py",
   "mimetype": "text/x-python",
   "name": "python",
   "nbconvert_exporter": "python",
   "pygments_lexer": "ipython3",
   "version": "3.9.7"
  }
 },
 "nbformat": 4,
 "nbformat_minor": 5
}
