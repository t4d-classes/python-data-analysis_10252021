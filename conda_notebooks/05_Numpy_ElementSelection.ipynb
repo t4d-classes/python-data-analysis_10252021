{
 "cells": [
  {
   "cell_type": "code",
   "execution_count": 1,
   "id": "b6a7cd9e-d7f7-4651-9d01-02893232c1ee",
   "metadata": {},
   "outputs": [],
   "source": [
    "import numpy as np"
   ]
  },
  {
   "cell_type": "code",
   "execution_count": 2,
   "id": "a9ee714b-acc7-4c06-944d-533f30cd94c7",
   "metadata": {},
   "outputs": [
    {
     "data": {
      "text/plain": [
       "array([10, 11, 12, 13, 14, 15, 16, 17, 18, 19])"
      ]
     },
     "execution_count": 2,
     "metadata": {},
     "output_type": "execute_result"
    }
   ],
   "source": [
    "nums = np.arange(10,20)\n",
    "nums"
   ]
  },
  {
   "cell_type": "code",
   "execution_count": 3,
   "id": "d2e7567c-fac4-4b99-a0ce-5375859f30b0",
   "metadata": {},
   "outputs": [
    {
     "data": {
      "text/plain": [
       "array([15, 16, 17, 18, 19])"
      ]
     },
     "execution_count": 3,
     "metadata": {},
     "output_type": "execute_result"
    }
   ],
   "source": [
    "nums[nums > 14]"
   ]
  },
  {
   "cell_type": "code",
   "execution_count": 4,
   "id": "a0dd8ead-75a8-4d0d-86dc-027dc51eca38",
   "metadata": {},
   "outputs": [
    {
     "name": "stdout",
     "output_type": "stream",
     "text": [
      "[False False False False False  True  True  True  True  True]\n"
     ]
    },
    {
     "data": {
      "text/plain": [
       "array([15, 16, 17, 18, 19])"
      ]
     },
     "execution_count": 4,
     "metadata": {},
     "output_type": "execute_result"
    }
   ],
   "source": [
    "gt14 = nums > 14\n",
    "\n",
    "print(gt14)\n",
    "\n",
    "nums[gt14]"
   ]
  },
  {
   "cell_type": "code",
   "execution_count": 5,
   "id": "6c7b9938-4f8f-4abd-8a4f-3c1ac4140b2d",
   "metadata": {},
   "outputs": [
    {
     "data": {
      "text/plain": [
       "array([10, 13, 15, 16, 18, 19])"
      ]
     },
     "execution_count": 5,
     "metadata": {},
     "output_type": "execute_result"
    }
   ],
   "source": [
    "nums[ [True, False, False, True, False,  True,  True,  False,  True,  True] ]"
   ]
  },
  {
   "cell_type": "code",
   "execution_count": 6,
   "id": "b7c188ba-087f-4f92-ab1a-a161bec50069",
   "metadata": {},
   "outputs": [
    {
     "data": {
      "text/plain": [
       "array([-15, -16, -17, -18, -19])"
      ]
     },
     "execution_count": 6,
     "metadata": {},
     "output_type": "execute_result"
    }
   ],
   "source": [
    "new_nums = nums[gt14] * -1\n",
    "\n",
    "new_nums"
   ]
  },
  {
   "cell_type": "code",
   "execution_count": 7,
   "id": "8ea1321b-c634-4c51-a795-fc6609a3c988",
   "metadata": {},
   "outputs": [
    {
     "data": {
      "text/plain": [
       "-17"
      ]
     },
     "execution_count": 7,
     "metadata": {},
     "output_type": "execute_result"
    }
   ],
   "source": [
    "new_nums[2]"
   ]
  },
  {
   "cell_type": "code",
   "execution_count": 8,
   "id": "b99626a7-c3bc-422c-a5f8-1ab1dfa970a3",
   "metadata": {},
   "outputs": [
    {
     "data": {
      "text/plain": [
       "array([-17, -18])"
      ]
     },
     "execution_count": 8,
     "metadata": {},
     "output_type": "execute_result"
    }
   ],
   "source": [
    "new_nums[ [ 2, 3 ] ]"
   ]
  },
  {
   "cell_type": "code",
   "execution_count": 9,
   "id": "42514469-06cd-4b46-a1e0-547c682e0ced",
   "metadata": {},
   "outputs": [
    {
     "data": {
      "text/plain": [
       "array([-15, -16, 999, -18, -19])"
      ]
     },
     "execution_count": 9,
     "metadata": {},
     "output_type": "execute_result"
    }
   ],
   "source": [
    "new_nums[2] = 999\n",
    "\n",
    "new_nums"
   ]
  },
  {
   "cell_type": "code",
   "execution_count": 10,
   "id": "48a650df-8aad-42fb-99d4-fa5052550178",
   "metadata": {},
   "outputs": [
    {
     "data": {
      "text/plain": [
       "array([ -15,  -16, 1000, 1000,  -19])"
      ]
     },
     "execution_count": 10,
     "metadata": {},
     "output_type": "execute_result"
    }
   ],
   "source": [
    "new_nums[ [ 2, 3 ] ] = 1000\n",
    "\n",
    "new_nums"
   ]
  },
  {
   "cell_type": "code",
   "execution_count": 11,
   "id": "ee610e4a-0c1b-4c7b-8885-8e232132a1fc",
   "metadata": {},
   "outputs": [
    {
     "data": {
      "text/plain": [
       "array([10, 11, 12, 13, 14, 15, 16, 17, 18, 19])"
      ]
     },
     "execution_count": 11,
     "metadata": {},
     "output_type": "execute_result"
    }
   ],
   "source": [
    "nums = np.arange(10,20)\n",
    "\n",
    "nums"
   ]
  },
  {
   "cell_type": "code",
   "execution_count": 12,
   "id": "1d3cd327-733c-45e2-b681-7901afa8d9d8",
   "metadata": {},
   "outputs": [
    {
     "name": "stdout",
     "output_type": "stream",
     "text": [
      "True\n"
     ]
    },
    {
     "data": {
      "text/plain": [
       "array([10, 11, 12, 13, 14, 30, 32, 34, 36, 38])"
      ]
     },
     "execution_count": 12,
     "metadata": {},
     "output_type": "execute_result"
    }
   ],
   "source": [
    "#print(nums[nums > 14] * 2)\n",
    "#print(nums[nums > 14])\n",
    "\n",
    "old_nums = nums\n",
    "\n",
    "# all three are updating the original array\n",
    "\n",
    "# less efficient because of calculating \"nums > 14\" twice\n",
    "nums[nums > 14] = nums[nums > 14] * 2\n",
    "\n",
    "# more efficient because of calculating \"nums > 14\" once\n",
    "# gt14 = nums > 14\n",
    "# nums[gt14] =  nums[gt14] * 2\n",
    "\n",
    "# same efficiency as the previous\n",
    "# nums[gt14] *= 2\n",
    "\n",
    "print(id(old_nums) == id(nums))\n",
    "nums"
   ]
  },
  {
   "cell_type": "code",
   "execution_count": 13,
   "id": "030651f3-dbf3-4732-9908-f664c20446cf",
   "metadata": {},
   "outputs": [
    {
     "name": "stdout",
     "output_type": "stream",
     "text": [
      "False\n",
      "[1000    1    2    3    4    5    6    7    8    9   10   11   12   13\n",
      "   14   15   16   17   18   19   20   21   22   23   24   25   26   27\n",
      "   28   29   30   31   32   33   34   35]\n",
      "[[1000    1    2    3    4    5]\n",
      " [   6    7    8    9   10   11]\n",
      " [  12   13   14   15   16   17]\n",
      " [  18   19   20   21   22   23]\n",
      " [  24   25   26   27   28   29]\n",
      " [  30   31   32   33   34   35]]\n",
      "(36,)\n",
      "(6, 6)\n"
     ]
    }
   ],
   "source": [
    "nums = np.arange(36)\n",
    "\n",
    "matrix_nums = nums.reshape(6,6)\n",
    "\n",
    "print(id(nums) == id(matrix_nums))\n",
    "\n",
    "nums[0] = 1000\n",
    "\n",
    "print(nums)\n",
    "print(matrix_nums)\n",
    "\n",
    "print(nums.shape)\n",
    "print(matrix_nums.shape)\n"
   ]
  },
  {
   "cell_type": "code",
   "execution_count": 14,
   "id": "c3a724d2-f45f-4bd5-9d96-94bd2344f86e",
   "metadata": {},
   "outputs": [
    {
     "data": {
      "text/plain": [
       "array([ 6,  7,  8,  9, 10, 11])"
      ]
     },
     "execution_count": 14,
     "metadata": {},
     "output_type": "execute_result"
    }
   ],
   "source": [
    "matrix_nums[1]"
   ]
  },
  {
   "cell_type": "code",
   "execution_count": 15,
   "id": "953775e9-5eed-4682-94dc-4a8257e17442",
   "metadata": {},
   "outputs": [
    {
     "data": {
      "text/plain": [
       "9"
      ]
     },
     "execution_count": 15,
     "metadata": {},
     "output_type": "execute_result"
    }
   ],
   "source": [
    "matrix_nums[1, 3] # 1 = row, 3 = col"
   ]
  },
  {
   "cell_type": "code",
   "execution_count": 16,
   "id": "8ed68b6e-81da-4e7a-a6cd-7ecd820e2a4d",
   "metadata": {},
   "outputs": [],
   "source": [
    "nums = matrix_nums[1]"
   ]
  },
  {
   "cell_type": "code",
   "execution_count": 17,
   "id": "edced516-626a-4ae2-a5f5-60cb73a6cadd",
   "metadata": {},
   "outputs": [
    {
     "data": {
      "text/plain": [
       "array([7, 8])"
      ]
     },
     "execution_count": 17,
     "metadata": {},
     "output_type": "execute_result"
    }
   ],
   "source": [
    "nums[1:3]"
   ]
  },
  {
   "cell_type": "code",
   "execution_count": 19,
   "id": "f50a81e5-d699-44fc-89ea-a170dbfdcd0b",
   "metadata": {},
   "outputs": [
    {
     "data": {
      "text/plain": [
       "array([[ 6,  7,  8,  9, 10, 11],\n",
       "       [12, 13, 14, 15, 16, 17]])"
      ]
     },
     "execution_count": 19,
     "metadata": {},
     "output_type": "execute_result"
    }
   ],
   "source": [
    " matrix_nums[1:3]"
   ]
  },
  {
   "cell_type": "code",
   "execution_count": 20,
   "id": "0ef2e34e-7880-426d-9334-882390531059",
   "metadata": {},
   "outputs": [
    {
     "data": {
      "text/plain": [
       "array([[1000,    1,    2,    3,    4,    5],\n",
       "       [   6,    7,    8,    9,   10,   11],\n",
       "       [  12,   13,   14,   15,   16,   17],\n",
       "       [  18,   19,   20,   21,   22,   23],\n",
       "       [  24,   25,   26,   27,   28,   29],\n",
       "       [  30,   31,   32,   33,   34,   35]])"
      ]
     },
     "execution_count": 20,
     "metadata": {},
     "output_type": "execute_result"
    }
   ],
   "source": [
    " matrix_nums[:]"
   ]
  },
  {
   "cell_type": "code",
   "execution_count": 21,
   "id": "f37c3064-5249-48b1-8bdd-96e9369c296f",
   "metadata": {},
   "outputs": [
    {
     "data": {
      "text/plain": [
       "array([ 2,  8, 14, 20, 26, 32])"
      ]
     },
     "execution_count": 21,
     "metadata": {},
     "output_type": "execute_result"
    }
   ],
   "source": [
    " matrix_nums[:,2]"
   ]
  },
  {
   "cell_type": "code",
   "execution_count": 22,
   "id": "059ea5f4-25f4-4851-ab30-a5d4424496f1",
   "metadata": {},
   "outputs": [
    {
     "data": {
      "text/plain": [
       "array([[ 2,  3],\n",
       "       [ 8,  9],\n",
       "       [14, 15],\n",
       "       [20, 21],\n",
       "       [26, 27],\n",
       "       [32, 33]])"
      ]
     },
     "execution_count": 22,
     "metadata": {},
     "output_type": "execute_result"
    }
   ],
   "source": [
    " matrix_nums[:,2:4]"
   ]
  },
  {
   "cell_type": "code",
   "execution_count": 23,
   "id": "9000bf27-ad3a-41c9-88f1-9136531b6f2e",
   "metadata": {},
   "outputs": [
    {
     "data": {
      "text/plain": [
       "array([[ 8,  9],\n",
       "       [14, 15],\n",
       "       [20, 21],\n",
       "       [26, 27]])"
      ]
     },
     "execution_count": 23,
     "metadata": {},
     "output_type": "execute_result"
    }
   ],
   "source": [
    " matrix_nums[1:5,2:4]"
   ]
  },
  {
   "cell_type": "code",
   "execution_count": 24,
   "id": "0f2e65f0-3465-4659-bc44-9e43c8c498b5",
   "metadata": {},
   "outputs": [
    {
     "data": {
      "text/plain": [
       "array([[ 8,  9],\n",
       "       [20, 21]])"
      ]
     },
     "execution_count": 24,
     "metadata": {},
     "output_type": "execute_result"
    }
   ],
   "source": [
    " matrix_nums[1:5:2,2:4]"
   ]
  },
  {
   "cell_type": "code",
   "execution_count": null,
   "id": "fb55c2a6-917e-4a56-b4aa-cca8d819eb11",
   "metadata": {},
   "outputs": [],
   "source": []
  }
 ],
 "metadata": {
  "kernelspec": {
   "display_name": "conda_notebooks",
   "language": "python",
   "name": "conda_notebooks"
  },
  "language_info": {
   "codemirror_mode": {
    "name": "ipython",
    "version": 3
   },
   "file_extension": ".py",
   "mimetype": "text/x-python",
   "name": "python",
   "nbconvert_exporter": "python",
   "pygments_lexer": "ipython3",
   "version": "3.9.7"
  }
 },
 "nbformat": 4,
 "nbformat_minor": 5
}
