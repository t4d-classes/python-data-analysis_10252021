{
 "cells": [
  {
   "cell_type": "code",
   "execution_count": 1,
   "id": "5c75a931-3001-4470-966c-9c7fe86b226a",
   "metadata": {},
   "outputs": [],
   "source": [
    "import math\n",
    "import numpy as np"
   ]
  },
  {
   "cell_type": "code",
   "execution_count": 2,
   "id": "5e40dde9-67d0-4c5c-96e0-abebdd3358e4",
   "metadata": {},
   "outputs": [
    {
     "data": {
      "text/plain": [
       "nan"
      ]
     },
     "execution_count": 2,
     "metadata": {},
     "output_type": "execute_result"
    }
   ],
   "source": [
    "math.nan"
   ]
  },
  {
   "cell_type": "code",
   "execution_count": 3,
   "id": "bd904ef3-35d7-454b-b104-bf893b13e737",
   "metadata": {},
   "outputs": [
    {
     "data": {
      "text/plain": [
       "nan"
      ]
     },
     "execution_count": 3,
     "metadata": {},
     "output_type": "execute_result"
    }
   ],
   "source": [
    "np.nan"
   ]
  },
  {
   "cell_type": "code",
   "execution_count": 4,
   "id": "29b67057-3a1a-4a10-be6e-a20222c85065",
   "metadata": {},
   "outputs": [
    {
     "data": {
      "text/plain": [
       "False"
      ]
     },
     "execution_count": 4,
     "metadata": {},
     "output_type": "execute_result"
    }
   ],
   "source": [
    "math.nan == math.nan"
   ]
  },
  {
   "cell_type": "code",
   "execution_count": 5,
   "id": "30c26fa2-ce29-4bab-8012-3f16e5bec9c8",
   "metadata": {},
   "outputs": [
    {
     "data": {
      "text/plain": [
       "False"
      ]
     },
     "execution_count": 5,
     "metadata": {},
     "output_type": "execute_result"
    }
   ],
   "source": [
    "math.nan == np.nan"
   ]
  },
  {
   "cell_type": "code",
   "execution_count": 6,
   "id": "3da876d7-166f-492c-b393-39daf233f7e9",
   "metadata": {},
   "outputs": [
    {
     "data": {
      "text/plain": [
       "True"
      ]
     },
     "execution_count": 6,
     "metadata": {},
     "output_type": "execute_result"
    }
   ],
   "source": [
    "math.isnan(math.nan)"
   ]
  },
  {
   "cell_type": "code",
   "execution_count": 7,
   "id": "5e7abd0d-7bcc-4f75-9035-a87d9e56d047",
   "metadata": {},
   "outputs": [
    {
     "data": {
      "text/plain": [
       "True"
      ]
     },
     "execution_count": 7,
     "metadata": {},
     "output_type": "execute_result"
    }
   ],
   "source": [
    "math.isnan(np.nan)"
   ]
  },
  {
   "cell_type": "code",
   "execution_count": 8,
   "id": "5f9dab79-a518-4a0c-b153-27c1975fd2d7",
   "metadata": {},
   "outputs": [
    {
     "data": {
      "text/plain": [
       "True"
      ]
     },
     "execution_count": 8,
     "metadata": {},
     "output_type": "execute_result"
    }
   ],
   "source": [
    "np.isnan(math.nan)"
   ]
  },
  {
   "cell_type": "code",
   "execution_count": 12,
   "id": "8187cdf5-fc96-4e35-9085-978e887b15b2",
   "metadata": {},
   "outputs": [
    {
     "name": "stdout",
     "output_type": "stream",
     "text": [
      "float32\n"
     ]
    },
    {
     "data": {
      "text/plain": [
       "array([ 1., nan,  3., nan,  5.], dtype=float32)"
      ]
     },
     "execution_count": 12,
     "metadata": {},
     "output_type": "execute_result"
    }
   ],
   "source": [
    "arr = np.array([1, np.nan, 3, np.nan, 5], dtype=np.float32)\n",
    "\n",
    "print(arr.dtype)\n",
    "arr"
   ]
  },
  {
   "cell_type": "code",
   "execution_count": 13,
   "id": "11a345d5-5749-4afd-ab6e-e75d97aa38eb",
   "metadata": {},
   "outputs": [
    {
     "data": {
      "text/plain": [
       "array([False,  True, False,  True, False])"
      ]
     },
     "execution_count": 13,
     "metadata": {},
     "output_type": "execute_result"
    }
   ],
   "source": [
    "np.isnan(arr)"
   ]
  },
  {
   "cell_type": "code",
   "execution_count": 14,
   "id": "ad662277-a73d-492d-998d-19579d808428",
   "metadata": {},
   "outputs": [
    {
     "data": {
      "text/plain": [
       "array([nan, nan], dtype=float32)"
      ]
     },
     "execution_count": 14,
     "metadata": {},
     "output_type": "execute_result"
    }
   ],
   "source": [
    "arr[np.isnan(arr)]"
   ]
  },
  {
   "cell_type": "code",
   "execution_count": 15,
   "id": "d2c4a41f-0939-430e-a52f-bff4c4275f81",
   "metadata": {},
   "outputs": [
    {
     "data": {
      "text/plain": [
       "array([1., 3., 5.], dtype=float32)"
      ]
     },
     "execution_count": 15,
     "metadata": {},
     "output_type": "execute_result"
    }
   ],
   "source": [
    "arr[np.logical_not(np.isnan(arr))]"
   ]
  },
  {
   "cell_type": "code",
   "execution_count": 18,
   "id": "1f178c23-0e0f-4eb0-b4d8-0e6cb52da0c7",
   "metadata": {},
   "outputs": [],
   "source": [
    "arr = np.arange(100)"
   ]
  },
  {
   "cell_type": "code",
   "execution_count": 21,
   "id": "51f0df52-0913-4069-9ad6-95d9eea8c76a",
   "metadata": {},
   "outputs": [
    {
     "data": {
      "text/plain": [
       "array([ 0,  1,  2,  3,  4,  5,  6,  7,  8,  9, 51, 52, 53, 54, 55, 56, 57,\n",
       "       58, 59, 60, 61, 62, 63, 64, 65, 66, 67, 68, 69, 70, 71, 72, 73, 74,\n",
       "       75, 76, 77, 78, 79, 80, 81, 82, 83, 84, 85, 86, 87, 88, 89, 90, 91,\n",
       "       92, 93, 94, 95, 96, 97, 98, 99])"
      ]
     },
     "execution_count": 21,
     "metadata": {},
     "output_type": "execute_result"
    }
   ],
   "source": [
    "arr[np.logical_or(arr < 10, arr > 50)]"
   ]
  },
  {
   "cell_type": "code",
   "execution_count": 22,
   "id": "194ae049-57ac-468f-ad8d-ce299c49f658",
   "metadata": {},
   "outputs": [
    {
     "data": {
      "text/plain": [
       "array([11, 12, 13, 14, 15, 16, 17, 18, 19, 20, 21, 22, 23, 24, 25, 26, 27,\n",
       "       28, 29, 30, 31, 32, 33, 34, 35, 36, 37, 38, 39, 40, 41, 42, 43, 44,\n",
       "       45, 46, 47, 48, 49])"
      ]
     },
     "execution_count": 22,
     "metadata": {},
     "output_type": "execute_result"
    }
   ],
   "source": [
    "arr[np.logical_and(arr > 10, arr < 50)]"
   ]
  },
  {
   "cell_type": "code",
   "execution_count": null,
   "id": "e8b5c5c5-66ab-499b-b448-36d41f05200b",
   "metadata": {},
   "outputs": [],
   "source": []
  }
 ],
 "metadata": {
  "kernelspec": {
   "display_name": "conda_notebooks",
   "language": "python",
   "name": "conda_notebooks"
  },
  "language_info": {
   "codemirror_mode": {
    "name": "ipython",
    "version": 3
   },
   "file_extension": ".py",
   "mimetype": "text/x-python",
   "name": "python",
   "nbconvert_exporter": "python",
   "pygments_lexer": "ipython3",
   "version": "3.9.7"
  }
 },
 "nbformat": 4,
 "nbformat_minor": 5
}
